{
 "cells": [
  {
   "cell_type": "markdown",
   "metadata": {},
   "source": [
    "# Continuous Control\n",
    "\n",
    "---\n",
    "\n",
    "In this notebook, you will learn how to use the Unity ML-Agents environment for the second project of the [Deep Reinforcement Learning Nanodegree](https://www.udacity.com/course/deep-reinforcement-learning-nanodegree--nd893) program.\n",
    "\n",
    "### 1. Start the Environment\n",
    "\n",
    "We begin by importing the necessary packages.  If the code cell below returns an error, please revisit the project instructions to double-check that you have installed [Unity ML-Agents](https://github.com/Unity-Technologies/ml-agents/blob/master/docs/Installation.md) and [NumPy](http://www.numpy.org/)."
   ]
  },
  {
   "cell_type": "code",
   "execution_count": 1,
   "metadata": {},
   "outputs": [],
   "source": [
    "\n",
    "from unityagents import UnityEnvironment\n",
    "import numpy as np"
   ]
  },
  {
   "cell_type": "markdown",
   "metadata": {},
   "source": [
    "Next, we will start the environment!  **_Before running the code cell below_**, change the `file_name` parameter to match the location of the Unity environment that you downloaded.\n",
    "\n",
    "- **Mac**: `\"path/to/Reacher.app\"`\n",
    "- **Windows** (x86): `\"path/to/Reacher_Windows_x86/Reacher.exe\"`\n",
    "- **Windows** (x86_64): `\"path/to/Reacher_Windows_x86_64/Reacher.exe\"`\n",
    "- **Linux** (x86): `\"path/to/Reacher_Linux/Reacher.x86\"`\n",
    "- **Linux** (x86_64): `\"path/to/Reacher_Linux/Reacher.x86_64\"`\n",
    "- **Linux** (x86, headless): `\"path/to/Reacher_Linux_NoVis/Reacher.x86\"`\n",
    "- **Linux** (x86_64, headless): `\"path/to/Reacher_Linux_NoVis/Reacher.x86_64\"`\n",
    "\n",
    "For instance, if you are using a Mac, then you downloaded `Reacher.app`.  If this file is in the same folder as the notebook, then the line below should appear as follows:\n",
    "```\n",
    "env = UnityEnvironment(file_name=\"Reacher.app\")\n",
    "```"
   ]
  },
  {
   "cell_type": "code",
   "execution_count": 2,
   "metadata": {},
   "outputs": [
    {
     "name": "stderr",
     "output_type": "stream",
     "text": [
      "INFO:unityagents:\n'Academy' started successfully!\nUnity Academy name: Academy\n        Number of Brains: 1\n        Number of External Brains : 1\n        Lesson number : 0\n        Reset Parameters :\n\t\tgoal_speed -> 1.0\n\t\tgoal_size -> 5.0\nUnity brain name: ReacherBrain\n        Number of Visual Observations (per agent): 0\n        Vector Observation space type: continuous\n        Vector Observation space size (per agent): 33\n        Number of stacked Vector Observation: 1\n        Vector Action space type: continuous\n        Vector Action space size (per agent): 4\n        Vector Action descriptions: , , , \n"
     ]
    }
   ],
   "source": [
    "\n",
    "\n",
    "file_name = 'Reacher_Linux/Reacher.x86_64'\n",
    "\n",
    "env = UnityEnvironment(file_name=file_name)"
   ]
  },
  {
   "cell_type": "markdown",
   "metadata": {},
   "source": [
    "Environments contain **_brains_** which are responsible for deciding the actions of their associated agents. Here we check for the first brain available, and set it as the default brain we will be controlling from Python."
   ]
  },
  {
   "cell_type": "code",
   "execution_count": 3,
   "metadata": {},
   "outputs": [],
   "source": [
    "# get the default brain\n",
    "brain_name = env.brain_names[0]\n",
    "brain = env.brains[brain_name]"
   ]
  },
  {
   "cell_type": "markdown",
   "metadata": {},
   "source": [
    "### 2. Examine the State and Action Spaces\n",
    "\n",
    "In this environment, a double-jointed arm can move to target locations. A reward of `+0.1` is provided for each step that the agent's hand is in the goal location. Thus, the goal of your agent is to maintain its position at the target location for as many time steps as possible.\n",
    "\n",
    "The observation space consists of `33` variables corresponding to position, rotation, velocity, and angular velocities of the arm.  Each action is a vector with four numbers, corresponding to torque applicable to two joints.  Every entry in the action vector must be a number between `-1` and `1`.\n",
    "\n",
    "Run the code cell below to print some information about the environment."
   ]
  },
  {
   "cell_type": "code",
   "execution_count": 4,
   "metadata": {},
   "outputs": [
    {
     "name": "stdout",
     "output_type": "stream",
     "text": [
      "Number of agents: 1\nSize of each action: 4\nThere are 1 agents. Each observes a state with length: 33\nThe state for the first agent looks like: [ 0.00000000e+00 -4.00000000e+00  0.00000000e+00  1.00000000e+00\n -0.00000000e+00 -0.00000000e+00 -4.37113883e-08  0.00000000e+00\n  0.00000000e+00  0.00000000e+00  0.00000000e+00  0.00000000e+00\n  0.00000000e+00  0.00000000e+00 -1.00000000e+01  0.00000000e+00\n  1.00000000e+00 -0.00000000e+00 -0.00000000e+00 -4.37113883e-08\n  0.00000000e+00  0.00000000e+00  0.00000000e+00  0.00000000e+00\n  0.00000000e+00  0.00000000e+00  5.75471878e+00 -1.00000000e+00\n  5.55726671e+00  0.00000000e+00  1.00000000e+00  0.00000000e+00\n -1.68164849e-01]\n"
     ]
    }
   ],
   "source": [
    "# reset the environment\n",
    "env_info = env.reset(train_mode=True)[brain_name]\n",
    "\n",
    "# number of agents\n",
    "num_agents = len(env_info.agents)\n",
    "print('Number of agents:', num_agents)\n",
    "\n",
    "# size of each action\n",
    "action_size = brain.vector_action_space_size\n",
    "print('Size of each action:', action_size)\n",
    "\n",
    "# examine the state space \n",
    "states = env_info.vector_observations\n",
    "state_size = states.shape[1]\n",
    "print('There are {} agents. Each observes a state with length: {}'.format(states.shape[0], state_size))\n",
    "print('The state for the first agent looks like:', states[0])"
   ]
  },
  {
   "cell_type": "markdown",
   "metadata": {},
   "source": [
    "### 3. Take Random Actions in the Environment\n",
    "\n",
    "In the next code cell, you will learn how to use the Python API to control the agent and receive feedback from the environment.\n",
    "\n",
    "Once this cell is executed, you will watch the agent's performance, if it selects an action at random with each time step.  A window should pop up that allows you to observe the agent, as it moves through the environment.  \n",
    "\n",
    "Of course, as part of the project, you'll have to change the code so that the agent is able to use its experience to gradually choose better actions when interacting with the environment!"
   ]
  },
  {
   "cell_type": "code",
   "execution_count": 5,
   "metadata": {},
   "outputs": [
    {
     "name": "stdout",
     "output_type": "stream",
     "text": [
      "Total score (averaged over agents) this episode: 0.0\n"
     ]
    }
   ],
   "source": [
    "env_info = env.reset(train_mode=False)[brain_name]     # reset the environment    \n",
    "states = env_info.vector_observations                  # get the current state (for each agent)\n",
    "scores = np.zeros(num_agents)                          # initialize the score (for each agent)\n",
    "while True:\n",
    "    actions = np.random.randn(num_agents, action_size) # select an action (for each agent)\n",
    "    actions = np.clip(actions, -1, 1)                  # all actions between -1 and 1\n",
    "    env_info = env.step(actions)[brain_name]           # send all actions to tne environment\n",
    "    next_states = env_info.vector_observations         # get next state (for each agent)\n",
    "    rewards = env_info.rewards                         # get reward (for each agent)\n",
    "    dones = env_info.local_done                        # see if episode finished\n",
    "    scores += env_info.rewards                         # update the score (for each agent)\n",
    "    states = next_states                               # roll over states to next time step\n",
    "    if np.any(dones):                                  # exit loop if episode finished\n",
    "        break\n",
    "print('Total score (averaged over agents) this episode: {}'.format(np.mean(scores)))"
   ]
  },
  {
   "cell_type": "markdown",
   "metadata": {},
   "source": [
    "When finished, you can close the environment."
   ]
  },
  {
   "cell_type": "code",
   "execution_count": 6,
   "metadata": {},
   "outputs": [],
   "source": [
    "env.close()"
   ]
  },
  {
   "cell_type": "markdown",
   "metadata": {},
   "source": [
    "### 4. It's Your Turn!\n",
    "\n",
    "Now it's your turn to train your own agent to solve the environment!  When training the environment, set `train_mode=True`, so that the line for resetting the environment looks like the following:\n",
    "```python\n",
    "env_info = env.reset(train_mode=True)[brain_name]\n",
    "```"
   ]
  },
  {
   "cell_type": "code",
   "execution_count": 6,
   "metadata": {},
   "outputs": [
    {
     "name": "stdout",
     "output_type": "stream",
     "text": [
      "\rEpisode 1 (5 sec)  -- \tMean Score =0.7 -- \t Avg: 0.7\n"
     ]
    },
    {
     "name": "stdout",
     "output_type": "stream",
     "text": [
      "\rEpisode 2 (6 sec)  -- \tMean Score =0.3 -- \t Avg: 0.5\n"
     ]
    },
    {
     "name": "stdout",
     "output_type": "stream",
     "text": [
      "\rEpisode 3 (6 sec)  -- \tMean Score =0.1 -- \t Avg: 0.4\n"
     ]
    },
    {
     "name": "stdout",
     "output_type": "stream",
     "text": [
      "\rEpisode 4 (6 sec)  -- \tMean Score =1.3 -- \t Avg: 0.6\n"
     ]
    },
    {
     "name": "stdout",
     "output_type": "stream",
     "text": [
      "\rEpisode 5 (5 sec)  -- \tMean Score =0.0 -- \t Avg: 0.5\n"
     ]
    },
    {
     "name": "stdout",
     "output_type": "stream",
     "text": [
      "\rEpisode 6 (6 sec)  -- \tMean Score =0.4 -- \t Avg: 0.5\n"
     ]
    },
    {
     "name": "stdout",
     "output_type": "stream",
     "text": [
      "\rEpisode 7 (6 sec)  -- \tMean Score =0.8 -- \t Avg: 0.5\n"
     ]
    },
    {
     "name": "stdout",
     "output_type": "stream",
     "text": [
      "\rEpisode 8 (5 sec)  -- \tMean Score =0.3 -- \t Avg: 0.5\n"
     ]
    },
    {
     "name": "stdout",
     "output_type": "stream",
     "text": [
      "\rEpisode 9 (6 sec)  -- \tMean Score =1.1 -- \t Avg: 0.6\n"
     ]
    },
    {
     "name": "stdout",
     "output_type": "stream",
     "text": [
      "\rEpisode 10 (6 sec)  -- \tMean Score =2.2 -- \t Avg: 0.7\n"
     ]
    },
    {
     "name": "stdout",
     "output_type": "stream",
     "text": [
      "\rEpisode 11 (6 sec)  -- \tMean Score =1.2 -- \t Avg: 0.8\n"
     ]
    },
    {
     "name": "stdout",
     "output_type": "stream",
     "text": [
      "\rEpisode 12 (6 sec)  -- \tMean Score =0.6 -- \t Avg: 0.8\n"
     ]
    },
    {
     "name": "stdout",
     "output_type": "stream",
     "text": [
      "\rEpisode 13 (6 sec)  -- \tMean Score =1.0 -- \t Avg: 0.8\n"
     ]
    },
    {
     "name": "stdout",
     "output_type": "stream",
     "text": [
      "\rEpisode 14 (6 sec)  -- \tMean Score =0.1 -- \t Avg: 0.7\n"
     ]
    },
    {
     "name": "stdout",
     "output_type": "stream",
     "text": [
      "\rEpisode 15 (6 sec)  -- \tMean Score =2.2 -- \t Avg: 0.8\n"
     ]
    },
    {
     "name": "stdout",
     "output_type": "stream",
     "text": [
      "\rEpisode 16 (6 sec)  -- \tMean Score =0.8 -- \t Avg: 0.8\n"
     ]
    },
    {
     "name": "stdout",
     "output_type": "stream",
     "text": [
      "\rEpisode 17 (6 sec)  -- \tMean Score =1.6 -- \t Avg: 0.9\n"
     ]
    },
    {
     "name": "stdout",
     "output_type": "stream",
     "text": [
      "\rEpisode 18 (5 sec)  -- \tMean Score =1.0 -- \t Avg: 0.9\n"
     ]
    },
    {
     "name": "stdout",
     "output_type": "stream",
     "text": [
      "\rEpisode 19 (5 sec)  -- \tMean Score =0.9 -- \t Avg: 0.9\n"
     ]
    },
    {
     "name": "stdout",
     "output_type": "stream",
     "text": [
      "\rEpisode 20 (6 sec)  -- \tMean Score =1.2 -- \t Avg: 0.9\n"
     ]
    },
    {
     "name": "stdout",
     "output_type": "stream",
     "text": [
      "\rEpisode 21 (6 sec)  -- \tMean Score =0.0 -- \t Avg: 0.8\n"
     ]
    },
    {
     "name": "stdout",
     "output_type": "stream",
     "text": [
      "\rEpisode 22 (6 sec)  -- \tMean Score =2.1 -- \t Avg: 0.9\n"
     ]
    },
    {
     "name": "stdout",
     "output_type": "stream",
     "text": [
      "\rEpisode 23 (6 sec)  -- \tMean Score =0.5 -- \t Avg: 0.9\n"
     ]
    },
    {
     "name": "stdout",
     "output_type": "stream",
     "text": [
      "\rEpisode 24 (6 sec)  -- \tMean Score =0.7 -- \t Avg: 0.9\n"
     ]
    },
    {
     "name": "stdout",
     "output_type": "stream",
     "text": [
      "\rEpisode 25 (6 sec)  -- \tMean Score =1.0 -- \t Avg: 0.9\n"
     ]
    },
    {
     "name": "stdout",
     "output_type": "stream",
     "text": [
      "\rEpisode 26 (6 sec)  -- \tMean Score =1.1 -- \t Avg: 0.9\n"
     ]
    },
    {
     "name": "stdout",
     "output_type": "stream",
     "text": [
      "\rEpisode 27 (6 sec)  -- \tMean Score =0.4 -- \t Avg: 0.9\n"
     ]
    },
    {
     "name": "stdout",
     "output_type": "stream",
     "text": [
      "\rEpisode 28 (6 sec)  -- \tMean Score =0.3 -- \t Avg: 0.9\n"
     ]
    },
    {
     "name": "stdout",
     "output_type": "stream",
     "text": [
      "\rEpisode 29 (6 sec)  -- \tMean Score =1.9 -- \t Avg: 0.9\n"
     ]
    },
    {
     "name": "stdout",
     "output_type": "stream",
     "text": [
      "\rEpisode 30 (6 sec)  -- \tMean Score =2.6 -- \t Avg: 0.9\n"
     ]
    },
    {
     "name": "stdout",
     "output_type": "stream",
     "text": [
      "\rEpisode 31 (6 sec)  -- \tMean Score =0.7 -- \t Avg: 0.9\n"
     ]
    },
    {
     "name": "stdout",
     "output_type": "stream",
     "text": [
      "\rEpisode 32 (6 sec)  -- \tMean Score =2.7 -- \t Avg: 1.0\n"
     ]
    },
    {
     "name": "stdout",
     "output_type": "stream",
     "text": [
      "\rEpisode 33 (6 sec)  -- \tMean Score =1.4 -- \t Avg: 1.0\n"
     ]
    },
    {
     "name": "stdout",
     "output_type": "stream",
     "text": [
      "\rEpisode 34 (6 sec)  -- \tMean Score =2.2 -- \t Avg: 1.0\n"
     ]
    },
    {
     "name": "stdout",
     "output_type": "stream",
     "text": [
      "\rEpisode 35 (6 sec)  -- \tMean Score =2.7 -- \t Avg: 1.1\n"
     ]
    },
    {
     "name": "stdout",
     "output_type": "stream",
     "text": [
      "\rEpisode 36 (6 sec)  -- \tMean Score =2.9 -- \t Avg: 1.1\n"
     ]
    },
    {
     "name": "stdout",
     "output_type": "stream",
     "text": [
      "\rEpisode 37 (6 sec)  -- \tMean Score =2.8 -- \t Avg: 1.2\n"
     ]
    },
    {
     "name": "stdout",
     "output_type": "stream",
     "text": [
      "\rEpisode 38 (6 sec)  -- \tMean Score =2.7 -- \t Avg: 1.2\n"
     ]
    },
    {
     "name": "stdout",
     "output_type": "stream",
     "text": [
      "\rEpisode 39 (6 sec)  -- \tMean Score =2.1 -- \t Avg: 1.3\n"
     ]
    },
    {
     "name": "stdout",
     "output_type": "stream",
     "text": [
      "\rEpisode 40 (6 sec)  -- \tMean Score =0.4 -- \t Avg: 1.2\n"
     ]
    },
    {
     "name": "stdout",
     "output_type": "stream",
     "text": [
      "\rEpisode 41 (6 sec)  -- \tMean Score =4.9 -- \t Avg: 1.3\n"
     ]
    },
    {
     "name": "stdout",
     "output_type": "stream",
     "text": [
      "\rEpisode 42 (6 sec)  -- \tMean Score =4.5 -- \t Avg: 1.4\n"
     ]
    },
    {
     "name": "stdout",
     "output_type": "stream",
     "text": [
      "\rEpisode 43 (7 sec)  -- \tMean Score =4.0 -- \t Avg: 1.5\n"
     ]
    },
    {
     "name": "stdout",
     "output_type": "stream",
     "text": [
      "\rEpisode 44 (6 sec)  -- \tMean Score =0.7 -- \t Avg: 1.4\n"
     ]
    },
    {
     "name": "stdout",
     "output_type": "stream",
     "text": [
      "\rEpisode 45 (6 sec)  -- \tMean Score =1.8 -- \t Avg: 1.4\n"
     ]
    },
    {
     "name": "stdout",
     "output_type": "stream",
     "text": [
      "\rEpisode 46 (6 sec)  -- \tMean Score =3.0 -- \t Avg: 1.5\n"
     ]
    },
    {
     "name": "stdout",
     "output_type": "stream",
     "text": [
      "\rEpisode 47 (6 sec)  -- \tMean Score =2.0 -- \t Avg: 1.5\n"
     ]
    },
    {
     "name": "stdout",
     "output_type": "stream",
     "text": [
      "\rEpisode 48 (6 sec)  -- \tMean Score =4.9 -- \t Avg: 1.6\n"
     ]
    },
    {
     "name": "stdout",
     "output_type": "stream",
     "text": [
      "\rEpisode 49 (7 sec)  -- \tMean Score =4.5 -- \t Avg: 1.6\n"
     ]
    },
    {
     "name": "stdout",
     "output_type": "stream",
     "text": [
      "\rEpisode 50 (6 sec)  -- \tMean Score =4.3 -- \t Avg: 1.7\n"
     ]
    },
    {
     "name": "stdout",
     "output_type": "stream",
     "text": [
      "\rEpisode 51 (6 sec)  -- \tMean Score =1.1 -- \t Avg: 1.7\n"
     ]
    },
    {
     "name": "stdout",
     "output_type": "stream",
     "text": [
      "\rEpisode 52 (6 sec)  -- \tMean Score =4.6 -- \t Avg: 1.7\n"
     ]
    },
    {
     "name": "stdout",
     "output_type": "stream",
     "text": [
      "\rEpisode 53 (6 sec)  -- \tMean Score =2.9 -- \t Avg: 1.7\n"
     ]
    },
    {
     "name": "stdout",
     "output_type": "stream",
     "text": [
      "\rEpisode 54 (6 sec)  -- \tMean Score =4.0 -- \t Avg: 1.8\n"
     ]
    },
    {
     "name": "stdout",
     "output_type": "stream",
     "text": [
      "\rEpisode 55 (6 sec)  -- \tMean Score =3.8 -- \t Avg: 1.8\n"
     ]
    },
    {
     "name": "stdout",
     "output_type": "stream",
     "text": [
      "\rEpisode 56 (6 sec)  -- \tMean Score =4.9 -- \t Avg: 1.9\n"
     ]
    },
    {
     "name": "stdout",
     "output_type": "stream",
     "text": [
      "\rEpisode 57 (6 sec)  -- \tMean Score =4.2 -- \t Avg: 1.9\n"
     ]
    },
    {
     "name": "stdout",
     "output_type": "stream",
     "text": [
      "\rEpisode 58 (6 sec)  -- \tMean Score =1.8 -- \t Avg: 1.9\n"
     ]
    },
    {
     "name": "stdout",
     "output_type": "stream",
     "text": [
      "\rEpisode 59 (6 sec)  -- \tMean Score =3.6 -- \t Avg: 1.9\n"
     ]
    },
    {
     "name": "stdout",
     "output_type": "stream",
     "text": [
      "\rEpisode 60 (6 sec)  -- \tMean Score =4.4 -- \t Avg: 2.0\n"
     ]
    },
    {
     "name": "stdout",
     "output_type": "stream",
     "text": [
      "\rEpisode 61 (6 sec)  -- \tMean Score =3.8 -- \t Avg: 2.0\n"
     ]
    },
    {
     "name": "stdout",
     "output_type": "stream",
     "text": [
      "\rEpisode 62 (6 sec)  -- \tMean Score =3.7 -- \t Avg: 2.0\n"
     ]
    },
    {
     "name": "stdout",
     "output_type": "stream",
     "text": [
      "\rEpisode 63 (6 sec)  -- \tMean Score =1.1 -- \t Avg: 2.0\n"
     ]
    },
    {
     "name": "stdout",
     "output_type": "stream",
     "text": [
      "\rEpisode 64 (6 sec)  -- \tMean Score =2.6 -- \t Avg: 2.0\n"
     ]
    },
    {
     "name": "stdout",
     "output_type": "stream",
     "text": [
      "\rEpisode 65 (6 sec)  -- \tMean Score =4.3 -- \t Avg: 2.1\n"
     ]
    },
    {
     "name": "stdout",
     "output_type": "stream",
     "text": [
      "\rEpisode 66 (6 sec)  -- \tMean Score =4.4 -- \t Avg: 2.1\n"
     ]
    },
    {
     "name": "stdout",
     "output_type": "stream",
     "text": [
      "\rEpisode 67 (6 sec)  -- \tMean Score =1.5 -- \t Avg: 2.1\n"
     ]
    },
    {
     "name": "stdout",
     "output_type": "stream",
     "text": [
      "\rEpisode 68 (6 sec)  -- \tMean Score =3.9 -- \t Avg: 2.1\n"
     ]
    },
    {
     "name": "stdout",
     "output_type": "stream",
     "text": [
      "\rEpisode 69 (6 sec)  -- \tMean Score =7.6 -- \t Avg: 2.2\n"
     ]
    },
    {
     "name": "stdout",
     "output_type": "stream",
     "text": [
      "\rEpisode 70 (6 sec)  -- \tMean Score =4.0 -- \t Avg: 2.2\n"
     ]
    },
    {
     "name": "stdout",
     "output_type": "stream",
     "text": [
      "\rEpisode 71 (6 sec)  -- \tMean Score =2.6 -- \t Avg: 2.2\n"
     ]
    },
    {
     "name": "stdout",
     "output_type": "stream",
     "text": [
      "\rEpisode 72 (5 sec)  -- \tMean Score =6.7 -- \t Avg: 2.3\n"
     ]
    },
    {
     "name": "stdout",
     "output_type": "stream",
     "text": [
      "\rEpisode 73 (5 sec)  -- \tMean Score =3.4 -- \t Avg: 2.3\n"
     ]
    },
    {
     "name": "stdout",
     "output_type": "stream",
     "text": [
      "\rEpisode 74 (6 sec)  -- \tMean Score =4.0 -- \t Avg: 2.3\n"
     ]
    },
    {
     "name": "stdout",
     "output_type": "stream",
     "text": [
      "\rEpisode 75 (6 sec)  -- \tMean Score =3.5 -- \t Avg: 2.4\n"
     ]
    },
    {
     "name": "stdout",
     "output_type": "stream",
     "text": [
      "\rEpisode 76 (5 sec)  -- \tMean Score =8.4 -- \t Avg: 2.4\n"
     ]
    },
    {
     "name": "stdout",
     "output_type": "stream",
     "text": [
      "\rEpisode 77 (5 sec)  -- \tMean Score =3.7 -- \t Avg: 2.4\n"
     ]
    },
    {
     "name": "stdout",
     "output_type": "stream",
     "text": [
      "\rEpisode 78 (6 sec)  -- \tMean Score =3.7 -- \t Avg: 2.5\n"
     ]
    },
    {
     "name": "stdout",
     "output_type": "stream",
     "text": [
      "\rEpisode 79 (6 sec)  -- \tMean Score =2.9 -- \t Avg: 2.5\n"
     ]
    },
    {
     "name": "stdout",
     "output_type": "stream",
     "text": [
      "\rEpisode 80 (6 sec)  -- \tMean Score =6.6 -- \t Avg: 2.5\n"
     ]
    },
    {
     "name": "stdout",
     "output_type": "stream",
     "text": [
      "\rEpisode 81 (6 sec)  -- \tMean Score =3.4 -- \t Avg: 2.5\n"
     ]
    },
    {
     "name": "stdout",
     "output_type": "stream",
     "text": [
      "\rEpisode 82 (6 sec)  -- \tMean Score =4.5 -- \t Avg: 2.6\n"
     ]
    },
    {
     "name": "stdout",
     "output_type": "stream",
     "text": [
      "\rEpisode 83 (6 sec)  -- \tMean Score =7.1 -- \t Avg: 2.6\n"
     ]
    },
    {
     "name": "stdout",
     "output_type": "stream",
     "text": [
      "\rEpisode 84 (5 sec)  -- \tMean Score =4.9 -- \t Avg: 2.6\n"
     ]
    },
    {
     "name": "stdout",
     "output_type": "stream",
     "text": [
      "\rEpisode 85 (5 sec)  -- \tMean Score =6.5 -- \t Avg: 2.7\n"
     ]
    },
    {
     "name": "stdout",
     "output_type": "stream",
     "text": [
      "\rEpisode 86 (5 sec)  -- \tMean Score =2.8 -- \t Avg: 2.7\n"
     ]
    },
    {
     "name": "stdout",
     "output_type": "stream",
     "text": [
      "\rEpisode 87 (6 sec)  -- \tMean Score =3.9 -- \t Avg: 2.7\n"
     ]
    },
    {
     "name": "stdout",
     "output_type": "stream",
     "text": [
      "\rEpisode 88 (6 sec)  -- \tMean Score =5.2 -- \t Avg: 2.7\n"
     ]
    },
    {
     "name": "stdout",
     "output_type": "stream",
     "text": [
      "\rEpisode 89 (6 sec)  -- \tMean Score =4.7 -- \t Avg: 2.8\n"
     ]
    },
    {
     "name": "stdout",
     "output_type": "stream",
     "text": [
      "\rEpisode 90 (6 sec)  -- \tMean Score =6.8 -- \t Avg: 2.8\n"
     ]
    },
    {
     "name": "stdout",
     "output_type": "stream",
     "text": [
      "\rEpisode 91 (6 sec)  -- \tMean Score =3.1 -- \t Avg: 2.8\n"
     ]
    },
    {
     "name": "stdout",
     "output_type": "stream",
     "text": [
      "\rEpisode 92 (6 sec)  -- \tMean Score =7.4 -- \t Avg: 2.8\n"
     ]
    },
    {
     "name": "stdout",
     "output_type": "stream",
     "text": [
      "\rEpisode 93 (6 sec)  -- \tMean Score =2.9 -- \t Avg: 2.9\n"
     ]
    },
    {
     "name": "stdout",
     "output_type": "stream",
     "text": [
      "\rEpisode 94 (6 sec)  -- \tMean Score =5.7 -- \t Avg: 2.9\n"
     ]
    },
    {
     "name": "stdout",
     "output_type": "stream",
     "text": [
      "\rEpisode 95 (6 sec)  -- \tMean Score =5.1 -- \t Avg: 2.9\n"
     ]
    },
    {
     "name": "stdout",
     "output_type": "stream",
     "text": [
      "\rEpisode 96 (6 sec)  -- \tMean Score =5.6 -- \t Avg: 2.9\n"
     ]
    },
    {
     "name": "stdout",
     "output_type": "stream",
     "text": [
      "\rEpisode 97 (6 sec)  -- \tMean Score =4.8 -- \t Avg: 3.0\n"
     ]
    },
    {
     "name": "stdout",
     "output_type": "stream",
     "text": [
      "\rEpisode 98 (6 sec)  -- \tMean Score =7.1 -- \t Avg: 3.0\n"
     ]
    },
    {
     "name": "stdout",
     "output_type": "stream",
     "text": [
      "\rEpisode 99 (6 sec)  -- \tMean Score =8.1 -- \t Avg: 3.0\n"
     ]
    },
    {
     "name": "stdout",
     "output_type": "stream",
     "text": [
      "\rEpisode 100 (6 sec)  -- \tMean Score =10.3 -- \t Avg: 3.1\n"
     ]
    },
    {
     "name": "stdout",
     "output_type": "stream",
     "text": [
      "\rEpisode 101 (6 sec)  -- \tMean Score =6.1 -- \t Avg: 3.2\n"
     ]
    },
    {
     "name": "stdout",
     "output_type": "stream",
     "text": [
      "\rEpisode 102 (6 sec)  -- \tMean Score =6.2 -- \t Avg: 3.2\n"
     ]
    },
    {
     "name": "stdout",
     "output_type": "stream",
     "text": [
      "\rEpisode 103 (6 sec)  -- \tMean Score =5.3 -- \t Avg: 3.3\n"
     ]
    },
    {
     "name": "stdout",
     "output_type": "stream",
     "text": [
      "\rEpisode 104 (6 sec)  -- \tMean Score =6.0 -- \t Avg: 3.3\n"
     ]
    },
    {
     "name": "stdout",
     "output_type": "stream",
     "text": [
      "\rEpisode 105 (6 sec)  -- \tMean Score =7.2 -- \t Avg: 3.4\n"
     ]
    },
    {
     "name": "stdout",
     "output_type": "stream",
     "text": [
      "\rEpisode 106 (6 sec)  -- \tMean Score =9.3 -- \t Avg: 3.5\n"
     ]
    },
    {
     "name": "stdout",
     "output_type": "stream",
     "text": [
      "\rEpisode 107 (6 sec)  -- \tMean Score =7.7 -- \t Avg: 3.6\n"
     ]
    },
    {
     "name": "stdout",
     "output_type": "stream",
     "text": [
      "\rEpisode 108 (6 sec)  -- \tMean Score =7.8 -- \t Avg: 3.6\n"
     ]
    },
    {
     "name": "stdout",
     "output_type": "stream",
     "text": [
      "\rEpisode 109 (6 sec)  -- \tMean Score =10.4 -- \t Avg: 3.7\n"
     ]
    },
    {
     "name": "stdout",
     "output_type": "stream",
     "text": [
      "\rEpisode 110 (6 sec)  -- \tMean Score =6.5 -- \t Avg: 3.8\n"
     ]
    },
    {
     "name": "stdout",
     "output_type": "stream",
     "text": [
      "\rEpisode 111 (6 sec)  -- \tMean Score =7.1 -- \t Avg: 3.8\n"
     ]
    },
    {
     "name": "stdout",
     "output_type": "stream",
     "text": [
      "\rEpisode 112 (6 sec)  -- \tMean Score =5.3 -- \t Avg: 3.9\n"
     ]
    },
    {
     "name": "stdout",
     "output_type": "stream",
     "text": [
      "\rEpisode 113 (6 sec)  -- \tMean Score =6.0 -- \t Avg: 3.9\n"
     ]
    },
    {
     "name": "stdout",
     "output_type": "stream",
     "text": [
      "\rEpisode 114 (6 sec)  -- \tMean Score =7.3 -- \t Avg: 4.0\n"
     ]
    },
    {
     "name": "stdout",
     "output_type": "stream",
     "text": [
      "\rEpisode 115 (6 sec)  -- \tMean Score =6.2 -- \t Avg: 4.0\n"
     ]
    },
    {
     "name": "stdout",
     "output_type": "stream",
     "text": [
      "\rEpisode 116 (6 sec)  -- \tMean Score =6.7 -- \t Avg: 4.1\n"
     ]
    },
    {
     "name": "stdout",
     "output_type": "stream",
     "text": [
      "\rEpisode 117 (6 sec)  -- \tMean Score =5.0 -- \t Avg: 4.1\n"
     ]
    },
    {
     "name": "stdout",
     "output_type": "stream",
     "text": [
      "\rEpisode 118 (6 sec)  -- \tMean Score =10.4 -- \t Avg: 4.2\n"
     ]
    },
    {
     "name": "stdout",
     "output_type": "stream",
     "text": [
      "\rEpisode 119 (6 sec)  -- \tMean Score =9.4 -- \t Avg: 4.3\n"
     ]
    },
    {
     "name": "stdout",
     "output_type": "stream",
     "text": [
      "\rEpisode 120 (6 sec)  -- \tMean Score =6.1 -- \t Avg: 4.4\n"
     ]
    },
    {
     "name": "stdout",
     "output_type": "stream",
     "text": [
      "\rEpisode 121 (6 sec)  -- \tMean Score =14.4 -- \t Avg: 4.5\n"
     ]
    },
    {
     "name": "stdout",
     "output_type": "stream",
     "text": [
      "\rEpisode 122 (6 sec)  -- \tMean Score =6.2 -- \t Avg: 4.5\n"
     ]
    },
    {
     "name": "stdout",
     "output_type": "stream",
     "text": [
      "\rEpisode 123 (6 sec)  -- \tMean Score =6.9 -- \t Avg: 4.6\n"
     ]
    },
    {
     "name": "stdout",
     "output_type": "stream",
     "text": [
      "\rEpisode 124 (6 sec)  -- \tMean Score =7.3 -- \t Avg: 4.7\n"
     ]
    },
    {
     "name": "stdout",
     "output_type": "stream",
     "text": [
      "\rEpisode 125 (6 sec)  -- \tMean Score =8.4 -- \t Avg: 4.7\n"
     ]
    },
    {
     "name": "stdout",
     "output_type": "stream",
     "text": [
      "\rEpisode 126 (6 sec)  -- \tMean Score =7.9 -- \t Avg: 4.8\n"
     ]
    },
    {
     "name": "stdout",
     "output_type": "stream",
     "text": [
      "\rEpisode 127 (6 sec)  -- \tMean Score =11.6 -- \t Avg: 4.9\n"
     ]
    },
    {
     "name": "stdout",
     "output_type": "stream",
     "text": [
      "\rEpisode 128 (6 sec)  -- \tMean Score =8.9 -- \t Avg: 5.0\n"
     ]
    },
    {
     "name": "stdout",
     "output_type": "stream",
     "text": [
      "\rEpisode 129 (6 sec)  -- \tMean Score =4.7 -- \t Avg: 5.0\n"
     ]
    },
    {
     "name": "stdout",
     "output_type": "stream",
     "text": [
      "\rEpisode 130 (6 sec)  -- \tMean Score =9.2 -- \t Avg: 5.1\n"
     ]
    },
    {
     "name": "stdout",
     "output_type": "stream",
     "text": [
      "\rEpisode 131 (6 sec)  -- \tMean Score =6.5 -- \t Avg: 5.2\n"
     ]
    },
    {
     "name": "stdout",
     "output_type": "stream",
     "text": [
      "\rEpisode 132 (6 sec)  -- \tMean Score =6.4 -- \t Avg: 5.2\n"
     ]
    },
    {
     "name": "stdout",
     "output_type": "stream",
     "text": [
      "\rEpisode 133 (6 sec)  -- \tMean Score =8.8 -- \t Avg: 5.3\n"
     ]
    },
    {
     "name": "stdout",
     "output_type": "stream",
     "text": [
      "\rEpisode 134 (6 sec)  -- \tMean Score =8.1 -- \t Avg: 5.3\n"
     ]
    },
    {
     "name": "stdout",
     "output_type": "stream",
     "text": [
      "\rEpisode 135 (6 sec)  -- \tMean Score =9.0 -- \t Avg: 5.4\n"
     ]
    },
    {
     "name": "stdout",
     "output_type": "stream",
     "text": [
      "\rEpisode 136 (6 sec)  -- \tMean Score =3.1 -- \t Avg: 5.4\n"
     ]
    },
    {
     "name": "stdout",
     "output_type": "stream",
     "text": [
      "\rEpisode 137 (6 sec)  -- \tMean Score =7.9 -- \t Avg: 5.5\n"
     ]
    },
    {
     "name": "stdout",
     "output_type": "stream",
     "text": [
      "\rEpisode 138 (6 sec)  -- \tMean Score =6.4 -- \t Avg: 5.5\n"
     ]
    },
    {
     "name": "stdout",
     "output_type": "stream",
     "text": [
      "\rEpisode 139 (6 sec)  -- \tMean Score =6.5 -- \t Avg: 5.5\n"
     ]
    },
    {
     "name": "stdout",
     "output_type": "stream",
     "text": [
      "\rEpisode 140 (6 sec)  -- \tMean Score =7.4 -- \t Avg: 5.6\n"
     ]
    },
    {
     "name": "stdout",
     "output_type": "stream",
     "text": [
      "\rEpisode 141 (6 sec)  -- \tMean Score =7.3 -- \t Avg: 5.6\n"
     ]
    },
    {
     "name": "stdout",
     "output_type": "stream",
     "text": [
      "\rEpisode 142 (6 sec)  -- \tMean Score =6.3 -- \t Avg: 5.6\n"
     ]
    },
    {
     "name": "stdout",
     "output_type": "stream",
     "text": [
      "\rEpisode 143 (6 sec)  -- \tMean Score =10.9 -- \t Avg: 5.7\n"
     ]
    },
    {
     "name": "stdout",
     "output_type": "stream",
     "text": [
      "\rEpisode 144 (6 sec)  -- \tMean Score =6.3 -- \t Avg: 5.8\n"
     ]
    },
    {
     "name": "stdout",
     "output_type": "stream",
     "text": [
      "\rEpisode 145 (6 sec)  -- \tMean Score =10.8 -- \t Avg: 5.9\n"
     ]
    },
    {
     "name": "stdout",
     "output_type": "stream",
     "text": [
      "\rEpisode 146 (6 sec)  -- \tMean Score =8.0 -- \t Avg: 5.9\n"
     ]
    },
    {
     "name": "stdout",
     "output_type": "stream",
     "text": [
      "\rEpisode 147 (6 sec)  -- \tMean Score =8.7 -- \t Avg: 6.0\n"
     ]
    },
    {
     "name": "stdout",
     "output_type": "stream",
     "text": [
      "\rEpisode 148 (6 sec)  -- \tMean Score =13.2 -- \t Avg: 6.1\n"
     ]
    },
    {
     "name": "stdout",
     "output_type": "stream",
     "text": [
      "\rEpisode 149 (6 sec)  -- \tMean Score =10.2 -- \t Avg: 6.1\n"
     ]
    },
    {
     "name": "stdout",
     "output_type": "stream",
     "text": [
      "\rEpisode 150 (6 sec)  -- \tMean Score =9.8 -- \t Avg: 6.2\n"
     ]
    },
    {
     "name": "stdout",
     "output_type": "stream",
     "text": [
      "\rEpisode 151 (6 sec)  -- \tMean Score =12.1 -- \t Avg: 6.3\n"
     ]
    },
    {
     "name": "stdout",
     "output_type": "stream",
     "text": [
      "\rEpisode 152 (6 sec)  -- \tMean Score =11.9 -- \t Avg: 6.4\n"
     ]
    },
    {
     "name": "stdout",
     "output_type": "stream",
     "text": [
      "\rEpisode 153 (6 sec)  -- \tMean Score =9.7 -- \t Avg: 6.4\n"
     ]
    },
    {
     "name": "stdout",
     "output_type": "stream",
     "text": [
      "\rEpisode 154 (6 sec)  -- \tMean Score =12.3 -- \t Avg: 6.5\n"
     ]
    },
    {
     "name": "stdout",
     "output_type": "stream",
     "text": [
      "\rEpisode 155 (6 sec)  -- \tMean Score =4.1 -- \t Avg: 6.5\n"
     ]
    },
    {
     "name": "stdout",
     "output_type": "stream",
     "text": [
      "\rEpisode 156 (6 sec)  -- \tMean Score =8.0 -- \t Avg: 6.5\n"
     ]
    },
    {
     "name": "stdout",
     "output_type": "stream",
     "text": [
      "\rEpisode 157 (6 sec)  -- \tMean Score =10.3 -- \t Avg: 6.6\n"
     ]
    },
    {
     "name": "stdout",
     "output_type": "stream",
     "text": [
      "\rEpisode 158 (6 sec)  -- \tMean Score =16.4 -- \t Avg: 6.7\n"
     ]
    },
    {
     "name": "stdout",
     "output_type": "stream",
     "text": [
      "\rEpisode 159 (6 sec)  -- \tMean Score =8.3 -- \t Avg: 6.8\n"
     ]
    },
    {
     "name": "stdout",
     "output_type": "stream",
     "text": [
      "\rEpisode 160 (6 sec)  -- \tMean Score =8.8 -- \t Avg: 6.8\n"
     ]
    },
    {
     "name": "stdout",
     "output_type": "stream",
     "text": [
      "\rEpisode 161 (6 sec)  -- \tMean Score =14.1 -- \t Avg: 6.9\n"
     ]
    },
    {
     "name": "stdout",
     "output_type": "stream",
     "text": [
      "\rEpisode 162 (6 sec)  -- \tMean Score =6.7 -- \t Avg: 7.0\n"
     ]
    },
    {
     "name": "stdout",
     "output_type": "stream",
     "text": [
      "\rEpisode 163 (6 sec)  -- \tMean Score =14.6 -- \t Avg: 7.1\n"
     ]
    },
    {
     "name": "stdout",
     "output_type": "stream",
     "text": [
      "\rEpisode 164 (6 sec)  -- \tMean Score =10.8 -- \t Avg: 7.2\n"
     ]
    },
    {
     "name": "stdout",
     "output_type": "stream",
     "text": [
      "\rEpisode 165 (6 sec)  -- \tMean Score =13.9 -- \t Avg: 7.3\n"
     ]
    },
    {
     "name": "stdout",
     "output_type": "stream",
     "text": [
      "\rEpisode 166 (6 sec)  -- \tMean Score =15.3 -- \t Avg: 7.4\n"
     ]
    },
    {
     "name": "stdout",
     "output_type": "stream",
     "text": [
      "\rEpisode 167 (6 sec)  -- \tMean Score =9.8 -- \t Avg: 7.5\n"
     ]
    },
    {
     "name": "stdout",
     "output_type": "stream",
     "text": [
      "\rEpisode 168 (6 sec)  -- \tMean Score =11.5 -- \t Avg: 7.6\n"
     ]
    },
    {
     "name": "stdout",
     "output_type": "stream",
     "text": [
      "\rEpisode 169 (6 sec)  -- \tMean Score =10.5 -- \t Avg: 7.6\n"
     ]
    },
    {
     "name": "stdout",
     "output_type": "stream",
     "text": [
      "\rEpisode 170 (5 sec)  -- \tMean Score =11.2 -- \t Avg: 7.7\n"
     ]
    },
    {
     "name": "stdout",
     "output_type": "stream",
     "text": [
      "\rEpisode 171 (6 sec)  -- \tMean Score =7.2 -- \t Avg: 7.7\n"
     ]
    },
    {
     "name": "stdout",
     "output_type": "stream",
     "text": [
      "\rEpisode 172 (6 sec)  -- \tMean Score =12.9 -- \t Avg: 7.8\n"
     ]
    },
    {
     "name": "stdout",
     "output_type": "stream",
     "text": [
      "\rEpisode 173 (6 sec)  -- \tMean Score =12.6 -- \t Avg: 7.9\n"
     ]
    },
    {
     "name": "stdout",
     "output_type": "stream",
     "text": [
      "\rEpisode 174 (6 sec)  -- \tMean Score =14.2 -- \t Avg: 8.0\n"
     ]
    },
    {
     "name": "stdout",
     "output_type": "stream",
     "text": [
      "\rEpisode 175 (6 sec)  -- \tMean Score =7.8 -- \t Avg: 8.0\n"
     ]
    },
    {
     "name": "stdout",
     "output_type": "stream",
     "text": [
      "\rEpisode 176 (6 sec)  -- \tMean Score =9.3 -- \t Avg: 8.0\n"
     ]
    },
    {
     "name": "stdout",
     "output_type": "stream",
     "text": [
      "\rEpisode 177 (6 sec)  -- \tMean Score =8.2 -- \t Avg: 8.1\n"
     ]
    },
    {
     "name": "stdout",
     "output_type": "stream",
     "text": [
      "\rEpisode 178 (6 sec)  -- \tMean Score =7.3 -- \t Avg: 8.1\n"
     ]
    },
    {
     "name": "stdout",
     "output_type": "stream",
     "text": [
      "\rEpisode 179 (6 sec)  -- \tMean Score =7.3 -- \t Avg: 8.1\n"
     ]
    },
    {
     "name": "stdout",
     "output_type": "stream",
     "text": [
      "\rEpisode 180 (6 sec)  -- \tMean Score =7.4 -- \t Avg: 8.1\n"
     ]
    },
    {
     "name": "stdout",
     "output_type": "stream",
     "text": [
      "\rEpisode 181 (6 sec)  -- \tMean Score =9.7 -- \t Avg: 8.2\n"
     ]
    },
    {
     "name": "stdout",
     "output_type": "stream",
     "text": [
      "\rEpisode 182 (6 sec)  -- \tMean Score =8.5 -- \t Avg: 8.2\n"
     ]
    },
    {
     "name": "stdout",
     "output_type": "stream",
     "text": [
      "\rEpisode 183 (6 sec)  -- \tMean Score =15.8 -- \t Avg: 8.3\n"
     ]
    },
    {
     "name": "stdout",
     "output_type": "stream",
     "text": [
      "\rEpisode 184 (6 sec)  -- \tMean Score =18.6 -- \t Avg: 8.5\n"
     ]
    },
    {
     "name": "stdout",
     "output_type": "stream",
     "text": [
      "\rEpisode 185 (6 sec)  -- \tMean Score =11.4 -- \t Avg: 8.5\n"
     ]
    },
    {
     "name": "stdout",
     "output_type": "stream",
     "text": [
      "\rEpisode 186 (6 sec)  -- \tMean Score =14.6 -- \t Avg: 8.6\n"
     ]
    },
    {
     "name": "stdout",
     "output_type": "stream",
     "text": [
      "\rEpisode 187 (6 sec)  -- \tMean Score =12.5 -- \t Avg: 8.7\n"
     ]
    },
    {
     "name": "stdout",
     "output_type": "stream",
     "text": [
      "\rEpisode 188 (6 sec)  -- \tMean Score =9.8 -- \t Avg: 8.8\n"
     ]
    },
    {
     "name": "stdout",
     "output_type": "stream",
     "text": [
      "\rEpisode 189 (6 sec)  -- \tMean Score =10.8 -- \t Avg: 8.8\n"
     ]
    },
    {
     "name": "stdout",
     "output_type": "stream",
     "text": [
      "\rEpisode 190 (6 sec)  -- \tMean Score =10.9 -- \t Avg: 8.9\n"
     ]
    },
    {
     "name": "stdout",
     "output_type": "stream",
     "text": [
      "\rEpisode 191 (6 sec)  -- \tMean Score =10.0 -- \t Avg: 8.9\n"
     ]
    },
    {
     "name": "stdout",
     "output_type": "stream",
     "text": [
      "\rEpisode 192 (6 sec)  -- \tMean Score =10.0 -- \t Avg: 9.0\n"
     ]
    },
    {
     "name": "stdout",
     "output_type": "stream",
     "text": [
      "\rEpisode 193 (6 sec)  -- \tMean Score =11.6 -- \t Avg: 9.0\n"
     ]
    },
    {
     "name": "stdout",
     "output_type": "stream",
     "text": [
      "\rEpisode 194 (6 sec)  -- \tMean Score =11.8 -- \t Avg: 9.1\n"
     ]
    },
    {
     "name": "stdout",
     "output_type": "stream",
     "text": [
      "\rEpisode 195 (6 sec)  -- \tMean Score =15.5 -- \t Avg: 9.2\n"
     ]
    },
    {
     "name": "stdout",
     "output_type": "stream",
     "text": [
      "\rEpisode 196 (6 sec)  -- \tMean Score =15.3 -- \t Avg: 9.3\n"
     ]
    },
    {
     "name": "stdout",
     "output_type": "stream",
     "text": [
      "\rEpisode 197 (6 sec)  -- \tMean Score =10.6 -- \t Avg: 9.4\n"
     ]
    },
    {
     "name": "stdout",
     "output_type": "stream",
     "text": [
      "\rEpisode 198 (5 sec)  -- \tMean Score =11.7 -- \t Avg: 9.4\n"
     ]
    },
    {
     "name": "stdout",
     "output_type": "stream",
     "text": [
      "\rEpisode 199 (6 sec)  -- \tMean Score =15.0 -- \t Avg: 9.5\n"
     ]
    },
    {
     "name": "stdout",
     "output_type": "stream",
     "text": [
      "\rEpisode 200 (6 sec)  -- \tMean Score =10.5 -- \t Avg: 9.5\n"
     ]
    },
    {
     "name": "stdout",
     "output_type": "stream",
     "text": [
      "\rEpisode 201 (6 sec)  -- \tMean Score =10.4 -- \t Avg: 9.5\n"
     ]
    },
    {
     "name": "stdout",
     "output_type": "stream",
     "text": [
      "\rEpisode 202 (6 sec)  -- \tMean Score =8.2 -- \t Avg: 9.5\n"
     ]
    },
    {
     "name": "stdout",
     "output_type": "stream",
     "text": [
      "\rEpisode 203 (6 sec)  -- \tMean Score =13.2 -- \t Avg: 9.6\n"
     ]
    },
    {
     "name": "stdout",
     "output_type": "stream",
     "text": [
      "\rEpisode 204 (6 sec)  -- \tMean Score =13.2 -- \t Avg: 9.7\n"
     ]
    },
    {
     "name": "stdout",
     "output_type": "stream",
     "text": [
      "\rEpisode 205 (6 sec)  -- \tMean Score =9.1 -- \t Avg: 9.7\n"
     ]
    },
    {
     "name": "stdout",
     "output_type": "stream",
     "text": [
      "\rEpisode 206 (6 sec)  -- \tMean Score =15.4 -- \t Avg: 9.8\n"
     ]
    },
    {
     "name": "stdout",
     "output_type": "stream",
     "text": [
      "\rEpisode 207 (6 sec)  -- \tMean Score =6.8 -- \t Avg: 9.8\n"
     ]
    },
    {
     "name": "stdout",
     "output_type": "stream",
     "text": [
      "\rEpisode 208 (6 sec)  -- \tMean Score =7.1 -- \t Avg: 9.8\n"
     ]
    },
    {
     "name": "stdout",
     "output_type": "stream",
     "text": [
      "\rEpisode 209 (6 sec)  -- \tMean Score =8.6 -- \t Avg: 9.7\n"
     ]
    },
    {
     "name": "stdout",
     "output_type": "stream",
     "text": [
      "\rEpisode 210 (6 sec)  -- \tMean Score =14.5 -- \t Avg: 9.8\n"
     ]
    },
    {
     "name": "stdout",
     "output_type": "stream",
     "text": [
      "\rEpisode 211 (6 sec)  -- \tMean Score =14.4 -- \t Avg: 9.9\n"
     ]
    },
    {
     "name": "stdout",
     "output_type": "stream",
     "text": [
      "\rEpisode 212 (6 sec)  -- \tMean Score =7.8 -- \t Avg: 9.9\n"
     ]
    },
    {
     "name": "stdout",
     "output_type": "stream",
     "text": [
      "\rEpisode 213 (6 sec)  -- \tMean Score =12.1 -- \t Avg: 10.0\n"
     ]
    },
    {
     "name": "stdout",
     "output_type": "stream",
     "text": [
      "\rEpisode 214 (6 sec)  -- \tMean Score =8.3 -- \t Avg: 10.0\n"
     ]
    },
    {
     "name": "stdout",
     "output_type": "stream",
     "text": [
      "\rEpisode 215 (6 sec)  -- \tMean Score =16.8 -- \t Avg: 10.1\n"
     ]
    },
    {
     "name": "stdout",
     "output_type": "stream",
     "text": [
      "\rEpisode 216 (6 sec)  -- \tMean Score =10.1 -- \t Avg: 10.1\n"
     ]
    },
    {
     "name": "stdout",
     "output_type": "stream",
     "text": [
      "\rEpisode 217 (6 sec)  -- \tMean Score =8.6 -- \t Avg: 10.2\n"
     ]
    },
    {
     "name": "stdout",
     "output_type": "stream",
     "text": [
      "\rEpisode 218 (6 sec)  -- \tMean Score =9.9 -- \t Avg: 10.2\n"
     ]
    },
    {
     "name": "stdout",
     "output_type": "stream",
     "text": [
      "\rEpisode 219 (6 sec)  -- \tMean Score =12.1 -- \t Avg: 10.2\n"
     ]
    },
    {
     "name": "stdout",
     "output_type": "stream",
     "text": [
      "\rEpisode 220 (6 sec)  -- \tMean Score =11.5 -- \t Avg: 10.2\n"
     ]
    },
    {
     "name": "stdout",
     "output_type": "stream",
     "text": [
      "\rEpisode 221 (6 sec)  -- \tMean Score =13.1 -- \t Avg: 10.2\n"
     ]
    },
    {
     "name": "stdout",
     "output_type": "stream",
     "text": [
      "\rEpisode 222 (6 sec)  -- \tMean Score =12.9 -- \t Avg: 10.3\n"
     ]
    },
    {
     "name": "stdout",
     "output_type": "stream",
     "text": [
      "\rEpisode 223 (6 sec)  -- \tMean Score =6.0 -- \t Avg: 10.3\n"
     ]
    },
    {
     "name": "stdout",
     "output_type": "stream",
     "text": [
      "\rEpisode 224 (6 sec)  -- \tMean Score =12.7 -- \t Avg: 10.3\n"
     ]
    },
    {
     "name": "stdout",
     "output_type": "stream",
     "text": [
      "\rEpisode 225 (6 sec)  -- \tMean Score =11.2 -- \t Avg: 10.4\n"
     ]
    },
    {
     "name": "stdout",
     "output_type": "stream",
     "text": [
      "\rEpisode 226 (6 sec)  -- \tMean Score =9.6 -- \t Avg: 10.4\n"
     ]
    },
    {
     "name": "stdout",
     "output_type": "stream",
     "text": [
      "\rEpisode 227 (6 sec)  -- \tMean Score =8.9 -- \t Avg: 10.4\n"
     ]
    },
    {
     "name": "stdout",
     "output_type": "stream",
     "text": [
      "\rEpisode 228 (6 sec)  -- \tMean Score =14.8 -- \t Avg: 10.4\n"
     ]
    },
    {
     "name": "stdout",
     "output_type": "stream",
     "text": [
      "\rEpisode 229 (6 sec)  -- \tMean Score =7.2 -- \t Avg: 10.4\n"
     ]
    },
    {
     "name": "stdout",
     "output_type": "stream",
     "text": [
      "\rEpisode 230 (6 sec)  -- \tMean Score =6.0 -- \t Avg: 10.4\n"
     ]
    },
    {
     "name": "stdout",
     "output_type": "stream",
     "text": [
      "\rEpisode 231 (6 sec)  -- \tMean Score =11.1 -- \t Avg: 10.5\n"
     ]
    },
    {
     "name": "stdout",
     "output_type": "stream",
     "text": [
      "\rEpisode 232 (6 sec)  -- \tMean Score =3.4 -- \t Avg: 10.4\n"
     ]
    },
    {
     "name": "stdout",
     "output_type": "stream",
     "text": [
      "\rEpisode 233 (6 sec)  -- \tMean Score =17.1 -- \t Avg: 10.5\n"
     ]
    },
    {
     "name": "stdout",
     "output_type": "stream",
     "text": [
      "\rEpisode 234 (6 sec)  -- \tMean Score =10.6 -- \t Avg: 10.5\n"
     ]
    },
    {
     "name": "stdout",
     "output_type": "stream",
     "text": [
      "\rEpisode 235 (6 sec)  -- \tMean Score =17.8 -- \t Avg: 10.6\n"
     ]
    },
    {
     "name": "stdout",
     "output_type": "stream",
     "text": [
      "\rEpisode 236 (6 sec)  -- \tMean Score =10.4 -- \t Avg: 10.7\n"
     ]
    },
    {
     "name": "stdout",
     "output_type": "stream",
     "text": [
      "\rEpisode 237 (6 sec)  -- \tMean Score =15.0 -- \t Avg: 10.8\n"
     ]
    },
    {
     "name": "stdout",
     "output_type": "stream",
     "text": [
      "\rEpisode 238 (6 sec)  -- \tMean Score =7.2 -- \t Avg: 10.8\n"
     ]
    },
    {
     "name": "stdout",
     "output_type": "stream",
     "text": [
      "\rEpisode 239 (6 sec)  -- \tMean Score =10.8 -- \t Avg: 10.8\n"
     ]
    },
    {
     "name": "stdout",
     "output_type": "stream",
     "text": [
      "\rEpisode 240 (6 sec)  -- \tMean Score =16.4 -- \t Avg: 10.9\n"
     ]
    },
    {
     "name": "stdout",
     "output_type": "stream",
     "text": [
      "\rEpisode 241 (6 sec)  -- \tMean Score =12.3 -- \t Avg: 11.0\n"
     ]
    },
    {
     "name": "stdout",
     "output_type": "stream",
     "text": [
      "\rEpisode 242 (6 sec)  -- \tMean Score =8.5 -- \t Avg: 11.0\n"
     ]
    },
    {
     "name": "stdout",
     "output_type": "stream",
     "text": [
      "\rEpisode 243 (6 sec)  -- \tMean Score =11.2 -- \t Avg: 11.0\n"
     ]
    },
    {
     "name": "stdout",
     "output_type": "stream",
     "text": [
      "\rEpisode 244 (6 sec)  -- \tMean Score =12.9 -- \t Avg: 11.1\n"
     ]
    },
    {
     "name": "stdout",
     "output_type": "stream",
     "text": [
      "\rEpisode 245 (6 sec)  -- \tMean Score =8.0 -- \t Avg: 11.0\n"
     ]
    },
    {
     "name": "stdout",
     "output_type": "stream",
     "text": [
      "\rEpisode 246 (6 sec)  -- \tMean Score =17.4 -- \t Avg: 11.1\n"
     ]
    },
    {
     "name": "stdout",
     "output_type": "stream",
     "text": [
      "\rEpisode 247 (6 sec)  -- \tMean Score =8.8 -- \t Avg: 11.1\n"
     ]
    },
    {
     "name": "stdout",
     "output_type": "stream",
     "text": [
      "\rEpisode 248 (6 sec)  -- \tMean Score =12.4 -- \t Avg: 11.1\n"
     ]
    },
    {
     "name": "stdout",
     "output_type": "stream",
     "text": [
      "\rEpisode 249 (6 sec)  -- \tMean Score =18.8 -- \t Avg: 11.2\n"
     ]
    },
    {
     "name": "stdout",
     "output_type": "stream",
     "text": [
      "\rEpisode 250 (6 sec)  -- \tMean Score =14.4 -- \t Avg: 11.2\n"
     ]
    },
    {
     "name": "stdout",
     "output_type": "stream",
     "text": [
      "\rEpisode 251 (6 sec)  -- \tMean Score =14.0 -- \t Avg: 11.3\n"
     ]
    },
    {
     "name": "stdout",
     "output_type": "stream",
     "text": [
      "\rEpisode 252 (6 sec)  -- \tMean Score =7.0 -- \t Avg: 11.2\n"
     ]
    },
    {
     "name": "stdout",
     "output_type": "stream",
     "text": [
      "\rEpisode 253 (6 sec)  -- \tMean Score =14.7 -- \t Avg: 11.3\n"
     ]
    },
    {
     "name": "stdout",
     "output_type": "stream",
     "text": [
      "\rEpisode 254 (6 sec)  -- \tMean Score =13.7 -- \t Avg: 11.3\n"
     ]
    },
    {
     "name": "stdout",
     "output_type": "stream",
     "text": [
      "\rEpisode 255 (6 sec)  -- \tMean Score =13.8 -- \t Avg: 11.4\n"
     ]
    },
    {
     "name": "stdout",
     "output_type": "stream",
     "text": [
      "\rEpisode 256 (6 sec)  -- \tMean Score =10.8 -- \t Avg: 11.4\n"
     ]
    },
    {
     "name": "stdout",
     "output_type": "stream",
     "text": [
      "\rEpisode 257 (6 sec)  -- \tMean Score =12.3 -- \t Avg: 11.4\n"
     ]
    },
    {
     "name": "stdout",
     "output_type": "stream",
     "text": [
      "\rEpisode 258 (6 sec)  -- \tMean Score =16.8 -- \t Avg: 11.4\n"
     ]
    },
    {
     "name": "stdout",
     "output_type": "stream",
     "text": [
      "\rEpisode 259 (6 sec)  -- \tMean Score =16.3 -- \t Avg: 11.5\n"
     ]
    },
    {
     "name": "stdout",
     "output_type": "stream",
     "text": [
      "\rEpisode 260 (6 sec)  -- \tMean Score =13.4 -- \t Avg: 11.6\n"
     ]
    },
    {
     "name": "stdout",
     "output_type": "stream",
     "text": [
      "\rEpisode 261 (6 sec)  -- \tMean Score =16.1 -- \t Avg: 11.6\n"
     ]
    },
    {
     "name": "stdout",
     "output_type": "stream",
     "text": [
      "\rEpisode 262 (6 sec)  -- \tMean Score =12.5 -- \t Avg: 11.6\n"
     ]
    },
    {
     "name": "stdout",
     "output_type": "stream",
     "text": [
      "\rEpisode 263 (6 sec)  -- \tMean Score =11.6 -- \t Avg: 11.6\n"
     ]
    },
    {
     "name": "stdout",
     "output_type": "stream",
     "text": [
      "\rEpisode 264 (6 sec)  -- \tMean Score =18.1 -- \t Avg: 11.7\n"
     ]
    },
    {
     "name": "stdout",
     "output_type": "stream",
     "text": [
      "\rEpisode 265 (6 sec)  -- \tMean Score =15.8 -- \t Avg: 11.7\n"
     ]
    },
    {
     "name": "stdout",
     "output_type": "stream",
     "text": [
      "\rEpisode 266 (6 sec)  -- \tMean Score =19.6 -- \t Avg: 11.7\n"
     ]
    },
    {
     "name": "stdout",
     "output_type": "stream",
     "text": [
      "\rEpisode 267 (6 sec)  -- \tMean Score =8.9 -- \t Avg: 11.7\n"
     ]
    },
    {
     "name": "stdout",
     "output_type": "stream",
     "text": [
      "\rEpisode 268 (6 sec)  -- \tMean Score =12.9 -- \t Avg: 11.7\n"
     ]
    },
    {
     "name": "stdout",
     "output_type": "stream",
     "text": [
      "\rEpisode 269 (6 sec)  -- \tMean Score =11.5 -- \t Avg: 11.8\n"
     ]
    },
    {
     "name": "stdout",
     "output_type": "stream",
     "text": [
      "\rEpisode 270 (6 sec)  -- \tMean Score =10.0 -- \t Avg: 11.7\n"
     ]
    },
    {
     "name": "stdout",
     "output_type": "stream",
     "text": [
      "\rEpisode 271 (6 sec)  -- \tMean Score =11.5 -- \t Avg: 11.8\n"
     ]
    },
    {
     "name": "stdout",
     "output_type": "stream",
     "text": [
      "\rEpisode 272 (6 sec)  -- \tMean Score =20.6 -- \t Avg: 11.9\n"
     ]
    },
    {
     "name": "stdout",
     "output_type": "stream",
     "text": [
      "\rEpisode 273 (6 sec)  -- \tMean Score =15.9 -- \t Avg: 11.9\n"
     ]
    },
    {
     "name": "stdout",
     "output_type": "stream",
     "text": [
      "\rEpisode 274 (6 sec)  -- \tMean Score =8.5 -- \t Avg: 11.8\n"
     ]
    },
    {
     "name": "stdout",
     "output_type": "stream",
     "text": [
      "\rEpisode 275 (6 sec)  -- \tMean Score =20.5 -- \t Avg: 12.0\n"
     ]
    },
    {
     "name": "stdout",
     "output_type": "stream",
     "text": [
      "\rEpisode 276 (6 sec)  -- \tMean Score =18.4 -- \t Avg: 12.1\n"
     ]
    },
    {
     "name": "stdout",
     "output_type": "stream",
     "text": [
      "\rEpisode 277 (6 sec)  -- \tMean Score =13.2 -- \t Avg: 12.1\n"
     ]
    },
    {
     "name": "stdout",
     "output_type": "stream",
     "text": [
      "\rEpisode 278 (6 sec)  -- \tMean Score =17.4 -- \t Avg: 12.2\n"
     ]
    },
    {
     "name": "stdout",
     "output_type": "stream",
     "text": [
      "\rEpisode 279 (6 sec)  -- \tMean Score =14.9 -- \t Avg: 12.3\n"
     ]
    },
    {
     "name": "stdout",
     "output_type": "stream",
     "text": [
      "\rEpisode 280 (6 sec)  -- \tMean Score =20.1 -- \t Avg: 12.4\n"
     ]
    },
    {
     "name": "stdout",
     "output_type": "stream",
     "text": [
      "\rEpisode 281 (6 sec)  -- \tMean Score =12.6 -- \t Avg: 12.4\n"
     ]
    },
    {
     "name": "stdout",
     "output_type": "stream",
     "text": [
      "\rEpisode 282 (6 sec)  -- \tMean Score =20.0 -- \t Avg: 12.6\n"
     ]
    },
    {
     "name": "stdout",
     "output_type": "stream",
     "text": [
      "\rEpisode 283 (6 sec)  -- \tMean Score =14.3 -- \t Avg: 12.5\n"
     ]
    },
    {
     "name": "stdout",
     "output_type": "stream",
     "text": [
      "\rEpisode 284 (6 sec)  -- \tMean Score =14.7 -- \t Avg: 12.5\n"
     ]
    },
    {
     "name": "stdout",
     "output_type": "stream",
     "text": [
      "\rEpisode 285 (6 sec)  -- \tMean Score =18.5 -- \t Avg: 12.6\n"
     ]
    },
    {
     "name": "stdout",
     "output_type": "stream",
     "text": [
      "\rEpisode 286 (6 sec)  -- \tMean Score =14.4 -- \t Avg: 12.6\n"
     ]
    },
    {
     "name": "stdout",
     "output_type": "stream",
     "text": [
      "\rEpisode 287 (6 sec)  -- \tMean Score =19.2 -- \t Avg: 12.6\n"
     ]
    },
    {
     "name": "stdout",
     "output_type": "stream",
     "text": [
      "\rEpisode 288 (6 sec)  -- \tMean Score =11.2 -- \t Avg: 12.6\n"
     ]
    },
    {
     "name": "stdout",
     "output_type": "stream",
     "text": [
      "\rEpisode 289 (6 sec)  -- \tMean Score =5.5 -- \t Avg: 12.6\n"
     ]
    },
    {
     "name": "stdout",
     "output_type": "stream",
     "text": [
      "\rEpisode 290 (6 sec)  -- \tMean Score =8.8 -- \t Avg: 12.6\n"
     ]
    },
    {
     "name": "stdout",
     "output_type": "stream",
     "text": [
      "\rEpisode 291 (6 sec)  -- \tMean Score =8.2 -- \t Avg: 12.6\n"
     ]
    },
    {
     "name": "stdout",
     "output_type": "stream",
     "text": [
      "\rEpisode 292 (6 sec)  -- \tMean Score =10.5 -- \t Avg: 12.6\n"
     ]
    },
    {
     "name": "stdout",
     "output_type": "stream",
     "text": [
      "\rEpisode 293 (6 sec)  -- \tMean Score =18.1 -- \t Avg: 12.6\n"
     ]
    },
    {
     "name": "stdout",
     "output_type": "stream",
     "text": [
      "\rEpisode 294 (6 sec)  -- \tMean Score =13.2 -- \t Avg: 12.6\n"
     ]
    },
    {
     "name": "stdout",
     "output_type": "stream",
     "text": [
      "\rEpisode 295 (6 sec)  -- \tMean Score =17.1 -- \t Avg: 12.7\n"
     ]
    },
    {
     "name": "stdout",
     "output_type": "stream",
     "text": [
      "\rEpisode 296 (6 sec)  -- \tMean Score =9.8 -- \t Avg: 12.6\n"
     ]
    },
    {
     "name": "stdout",
     "output_type": "stream",
     "text": [
      "\rEpisode 297 (6 sec)  -- \tMean Score =20.4 -- \t Avg: 12.7\n"
     ]
    },
    {
     "name": "stdout",
     "output_type": "stream",
     "text": [
      "\rEpisode 298 (6 sec)  -- \tMean Score =14.6 -- \t Avg: 12.7\n"
     ]
    },
    {
     "name": "stdout",
     "output_type": "stream",
     "text": [
      "\rEpisode 299 (6 sec)  -- \tMean Score =14.7 -- \t Avg: 12.7\n"
     ]
    },
    {
     "name": "stdout",
     "output_type": "stream",
     "text": [
      "\rEpisode 300 (6 sec)  -- \tMean Score =14.8 -- \t Avg: 12.8\n"
     ]
    },
    {
     "name": "stdout",
     "output_type": "stream",
     "text": [
      "\rEpisode 301 (6 sec)  -- \tMean Score =10.2 -- \t Avg: 12.8\n"
     ]
    },
    {
     "name": "stdout",
     "output_type": "stream",
     "text": [
      "\rEpisode 302 (6 sec)  -- \tMean Score =19.0 -- \t Avg: 12.9\n"
     ]
    },
    {
     "name": "stdout",
     "output_type": "stream",
     "text": [
      "\rEpisode 303 (6 sec)  -- \tMean Score =14.3 -- \t Avg: 12.9\n"
     ]
    },
    {
     "name": "stdout",
     "output_type": "stream",
     "text": [
      "\rEpisode 304 (6 sec)  -- \tMean Score =24.0 -- \t Avg: 13.0\n"
     ]
    },
    {
     "name": "stdout",
     "output_type": "stream",
     "text": [
      "\rEpisode 305 (7 sec)  -- \tMean Score =15.3 -- \t Avg: 13.1\n"
     ]
    },
    {
     "name": "stdout",
     "output_type": "stream",
     "text": [
      "\rEpisode 306 (7 sec)  -- \tMean Score =18.0 -- \t Avg: 13.1\n"
     ]
    },
    {
     "name": "stdout",
     "output_type": "stream",
     "text": [
      "\rEpisode 307 (7 sec)  -- \tMean Score =11.5 -- \t Avg: 13.1\n"
     ]
    },
    {
     "name": "stdout",
     "output_type": "stream",
     "text": [
      "\rEpisode 308 (6 sec)  -- \tMean Score =17.0 -- \t Avg: 13.2\n"
     ]
    },
    {
     "name": "stdout",
     "output_type": "stream",
     "text": [
      "\rEpisode 309 (6 sec)  -- \tMean Score =13.9 -- \t Avg: 13.3\n"
     ]
    },
    {
     "name": "stdout",
     "output_type": "stream",
     "text": [
      "\rEpisode 310 (7 sec)  -- \tMean Score =21.4 -- \t Avg: 13.3\n"
     ]
    },
    {
     "name": "stdout",
     "output_type": "stream",
     "text": [
      "\rEpisode 311 (6 sec)  -- \tMean Score =15.3 -- \t Avg: 13.4\n"
     ]
    },
    {
     "name": "stdout",
     "output_type": "stream",
     "text": [
      "\rEpisode 312 (6 sec)  -- \tMean Score =17.4 -- \t Avg: 13.5\n"
     ]
    },
    {
     "name": "stdout",
     "output_type": "stream",
     "text": [
      "\rEpisode 313 (6 sec)  -- \tMean Score =16.2 -- \t Avg: 13.5\n"
     ]
    },
    {
     "name": "stdout",
     "output_type": "stream",
     "text": [
      "\rEpisode 314 (6 sec)  -- \tMean Score =8.3 -- \t Avg: 13.5\n"
     ]
    },
    {
     "name": "stdout",
     "output_type": "stream",
     "text": [
      "\rEpisode 315 (6 sec)  -- \tMean Score =20.1 -- \t Avg: 13.5\n"
     ]
    },
    {
     "name": "stdout",
     "output_type": "stream",
     "text": [
      "\rEpisode 316 (6 sec)  -- \tMean Score =20.5 -- \t Avg: 13.6\n"
     ]
    },
    {
     "name": "stdout",
     "output_type": "stream",
     "text": [
      "\rEpisode 317 (6 sec)  -- \tMean Score =15.3 -- \t Avg: 13.7\n"
     ]
    },
    {
     "name": "stdout",
     "output_type": "stream",
     "text": [
      "\rEpisode 318 (7 sec)  -- \tMean Score =19.3 -- \t Avg: 13.8\n"
     ]
    },
    {
     "name": "stdout",
     "output_type": "stream",
     "text": [
      "\rEpisode 319 (7 sec)  -- \tMean Score =20.8 -- \t Avg: 13.9\n"
     ]
    },
    {
     "name": "stdout",
     "output_type": "stream",
     "text": [
      "\rEpisode 320 (7 sec)  -- \tMean Score =16.1 -- \t Avg: 13.9\n"
     ]
    },
    {
     "name": "stdout",
     "output_type": "stream",
     "text": [
      "\rEpisode 321 (7 sec)  -- \tMean Score =15.3 -- \t Avg: 13.9\n"
     ]
    },
    {
     "name": "stdout",
     "output_type": "stream",
     "text": [
      "\rEpisode 322 (7 sec)  -- \tMean Score =13.4 -- \t Avg: 14.0\n"
     ]
    },
    {
     "name": "stdout",
     "output_type": "stream",
     "text": [
      "\rEpisode 323 (6 sec)  -- \tMean Score =13.5 -- \t Avg: 14.0\n"
     ]
    },
    {
     "name": "stdout",
     "output_type": "stream",
     "text": [
      "\rEpisode 324 (6 sec)  -- \tMean Score =11.3 -- \t Avg: 14.0\n"
     ]
    },
    {
     "name": "stdout",
     "output_type": "stream",
     "text": [
      "\rEpisode 325 (6 sec)  -- \tMean Score =17.3 -- \t Avg: 14.1\n"
     ]
    },
    {
     "name": "stdout",
     "output_type": "stream",
     "text": [
      "\rEpisode 326 (6 sec)  -- \tMean Score =13.4 -- \t Avg: 14.1\n"
     ]
    },
    {
     "name": "stdout",
     "output_type": "stream",
     "text": [
      "\rEpisode 327 (6 sec)  -- \tMean Score =9.3 -- \t Avg: 14.1\n"
     ]
    },
    {
     "name": "stdout",
     "output_type": "stream",
     "text": [
      "\rEpisode 328 (7 sec)  -- \tMean Score =13.6 -- \t Avg: 14.1\n"
     ]
    },
    {
     "name": "stdout",
     "output_type": "stream",
     "text": [
      "\rEpisode 329 (7 sec)  -- \tMean Score =29.7 -- \t Avg: 14.3\n"
     ]
    },
    {
     "name": "stdout",
     "output_type": "stream",
     "text": [
      "\rEpisode 330 (7 sec)  -- \tMean Score =14.8 -- \t Avg: 14.4\n"
     ]
    },
    {
     "name": "stdout",
     "output_type": "stream",
     "text": [
      "\rEpisode 331 (7 sec)  -- \tMean Score =7.8 -- \t Avg: 14.4\n"
     ]
    },
    {
     "name": "stdout",
     "output_type": "stream",
     "text": [
      "\rEpisode 332 (8 sec)  -- \tMean Score =19.6 -- \t Avg: 14.5\n"
     ]
    },
    {
     "name": "stdout",
     "output_type": "stream",
     "text": [
      "\rEpisode 333 (7 sec)  -- \tMean Score =15.6 -- \t Avg: 14.5\n"
     ]
    },
    {
     "name": "stdout",
     "output_type": "stream",
     "text": [
      "\rEpisode 334 (7 sec)  -- \tMean Score =20.4 -- \t Avg: 14.6\n"
     ]
    },
    {
     "name": "stdout",
     "output_type": "stream",
     "text": [
      "\rEpisode 335 (7 sec)  -- \tMean Score =13.2 -- \t Avg: 14.6\n"
     ]
    },
    {
     "name": "stdout",
     "output_type": "stream",
     "text": [
      "\rEpisode 336 (6 sec)  -- \tMean Score =17.2 -- \t Avg: 14.7\n"
     ]
    },
    {
     "name": "stdout",
     "output_type": "stream",
     "text": [
      "\rEpisode 337 (6 sec)  -- \tMean Score =25.9 -- \t Avg: 14.8\n"
     ]
    },
    {
     "name": "stdout",
     "output_type": "stream",
     "text": [
      "\rEpisode 338 (6 sec)  -- \tMean Score =17.9 -- \t Avg: 14.9\n"
     ]
    },
    {
     "name": "stdout",
     "output_type": "stream",
     "text": [
      "\rEpisode 339 (7 sec)  -- \tMean Score =12.6 -- \t Avg: 14.9\n"
     ]
    },
    {
     "name": "stdout",
     "output_type": "stream",
     "text": [
      "\rEpisode 340 (7 sec)  -- \tMean Score =18.7 -- \t Avg: 14.9\n"
     ]
    },
    {
     "name": "stdout",
     "output_type": "stream",
     "text": [
      "\rEpisode 341 (7 sec)  -- \tMean Score =10.7 -- \t Avg: 14.9\n"
     ]
    },
    {
     "name": "stdout",
     "output_type": "stream",
     "text": [
      "\rEpisode 342 (6 sec)  -- \tMean Score =10.5 -- \t Avg: 14.9\n"
     ]
    },
    {
     "name": "stdout",
     "output_type": "stream",
     "text": [
      "\rEpisode 343 (7 sec)  -- \tMean Score =21.6 -- \t Avg: 15.0\n"
     ]
    },
    {
     "name": "stdout",
     "output_type": "stream",
     "text": [
      "\rEpisode 344 (6 sec)  -- \tMean Score =21.4 -- \t Avg: 15.1\n"
     ]
    },
    {
     "name": "stdout",
     "output_type": "stream",
     "text": [
      "\rEpisode 345 (6 sec)  -- \tMean Score =10.5 -- \t Avg: 15.1\n"
     ]
    },
    {
     "name": "stdout",
     "output_type": "stream",
     "text": [
      "\rEpisode 346 (6 sec)  -- \tMean Score =14.8 -- \t Avg: 15.1\n"
     ]
    },
    {
     "name": "stdout",
     "output_type": "stream",
     "text": [
      "\rEpisode 347 (7 sec)  -- \tMean Score =14.8 -- \t Avg: 15.2\n"
     ]
    },
    {
     "name": "stdout",
     "output_type": "stream",
     "text": [
      "\rEpisode 348 (6 sec)  -- \tMean Score =23.9 -- \t Avg: 15.3\n"
     ]
    },
    {
     "name": "stdout",
     "output_type": "stream",
     "text": [
      "\rEpisode 349 (6 sec)  -- \tMean Score =9.5 -- \t Avg: 15.2\n"
     ]
    },
    {
     "name": "stdout",
     "output_type": "stream",
     "text": [
      "\rEpisode 350 (7 sec)  -- \tMean Score =24.2 -- \t Avg: 15.3\n"
     ]
    },
    {
     "name": "stdout",
     "output_type": "stream",
     "text": [
      "\rEpisode 351 (7 sec)  -- \tMean Score =23.0 -- \t Avg: 15.4\n"
     ]
    },
    {
     "name": "stdout",
     "output_type": "stream",
     "text": [
      "\rEpisode 352 (6 sec)  -- \tMean Score =16.8 -- \t Avg: 15.5\n"
     ]
    },
    {
     "name": "stdout",
     "output_type": "stream",
     "text": [
      "\rEpisode 353 (6 sec)  -- \tMean Score =11.6 -- \t Avg: 15.4\n"
     ]
    },
    {
     "name": "stdout",
     "output_type": "stream",
     "text": [
      "\rEpisode 354 (6 sec)  -- \tMean Score =7.8 -- \t Avg: 15.4\n"
     ]
    },
    {
     "name": "stdout",
     "output_type": "stream",
     "text": [
      "\rEpisode 355 (6 sec)  -- \tMean Score =16.6 -- \t Avg: 15.4\n"
     ]
    },
    {
     "name": "stdout",
     "output_type": "stream",
     "text": [
      "\rEpisode 356 (6 sec)  -- \tMean Score =13.5 -- \t Avg: 15.4\n"
     ]
    },
    {
     "name": "stdout",
     "output_type": "stream",
     "text": [
      "\rEpisode 357 (6 sec)  -- \tMean Score =16.3 -- \t Avg: 15.5\n"
     ]
    },
    {
     "name": "stdout",
     "output_type": "stream",
     "text": [
      "\rEpisode 358 (6 sec)  -- \tMean Score =10.3 -- \t Avg: 15.4\n"
     ]
    },
    {
     "name": "stdout",
     "output_type": "stream",
     "text": [
      "\rEpisode 359 (6 sec)  -- \tMean Score =11.9 -- \t Avg: 15.4\n"
     ]
    },
    {
     "name": "stdout",
     "output_type": "stream",
     "text": [
      "\rEpisode 360 (6 sec)  -- \tMean Score =9.7 -- \t Avg: 15.3\n"
     ]
    },
    {
     "name": "stdout",
     "output_type": "stream",
     "text": [
      "\rEpisode 361 (6 sec)  -- \tMean Score =15.6 -- \t Avg: 15.3\n"
     ]
    },
    {
     "name": "stdout",
     "output_type": "stream",
     "text": [
      "\rEpisode 362 (6 sec)  -- \tMean Score =17.7 -- \t Avg: 15.4\n"
     ]
    },
    {
     "name": "stdout",
     "output_type": "stream",
     "text": [
      "\rEpisode 363 (6 sec)  -- \tMean Score =23.6 -- \t Avg: 15.5\n"
     ]
    },
    {
     "name": "stdout",
     "output_type": "stream",
     "text": [
      "\rEpisode 364 (6 sec)  -- \tMean Score =21.3 -- \t Avg: 15.5\n"
     ]
    },
    {
     "name": "stdout",
     "output_type": "stream",
     "text": [
      "\rEpisode 365 (7 sec)  -- \tMean Score =22.9 -- \t Avg: 15.6\n"
     ]
    },
    {
     "name": "stdout",
     "output_type": "stream",
     "text": [
      "\rEpisode 366 (7 sec)  -- \tMean Score =9.7 -- \t Avg: 15.5\n"
     ]
    },
    {
     "name": "stdout",
     "output_type": "stream",
     "text": [
      "\rEpisode 367 (7 sec)  -- \tMean Score =15.4 -- \t Avg: 15.6\n"
     ]
    },
    {
     "name": "stdout",
     "output_type": "stream",
     "text": [
      "\rEpisode 368 (7 sec)  -- \tMean Score =9.5 -- \t Avg: 15.5\n"
     ]
    },
    {
     "name": "stdout",
     "output_type": "stream",
     "text": [
      "\rEpisode 369 (7 sec)  -- \tMean Score =15.9 -- \t Avg: 15.6\n"
     ]
    },
    {
     "name": "stdout",
     "output_type": "stream",
     "text": [
      "\rEpisode 370 (7 sec)  -- \tMean Score =16.2 -- \t Avg: 15.6\n"
     ]
    },
    {
     "name": "stdout",
     "output_type": "stream",
     "text": [
      "\rEpisode 371 (7 sec)  -- \tMean Score =13.9 -- \t Avg: 15.7\n"
     ]
    },
    {
     "name": "stdout",
     "output_type": "stream",
     "text": [
      "\rEpisode 372 (7 sec)  -- \tMean Score =25.7 -- \t Avg: 15.7\n"
     ]
    },
    {
     "name": "stdout",
     "output_type": "stream",
     "text": [
      "\rEpisode 373 (7 sec)  -- \tMean Score =15.5 -- \t Avg: 15.7\n"
     ]
    },
    {
     "name": "stdout",
     "output_type": "stream",
     "text": [
      "\rEpisode 374 (7 sec)  -- \tMean Score =21.6 -- \t Avg: 15.8\n"
     ]
    },
    {
     "name": "stdout",
     "output_type": "stream",
     "text": [
      "\rEpisode 375 (7 sec)  -- \tMean Score =14.8 -- \t Avg: 15.8\n"
     ]
    },
    {
     "name": "stdout",
     "output_type": "stream",
     "text": [
      "\rEpisode 376 (7 sec)  -- \tMean Score =24.8 -- \t Avg: 15.8\n"
     ]
    },
    {
     "name": "stdout",
     "output_type": "stream",
     "text": [
      "\rEpisode 377 (7 sec)  -- \tMean Score =15.8 -- \t Avg: 15.9\n"
     ]
    },
    {
     "name": "stdout",
     "output_type": "stream",
     "text": [
      "\rEpisode 378 (7 sec)  -- \tMean Score =13.3 -- \t Avg: 15.8\n"
     ]
    },
    {
     "name": "stdout",
     "output_type": "stream",
     "text": [
      "\rEpisode 379 (7 sec)  -- \tMean Score =21.2 -- \t Avg: 15.9\n"
     ]
    },
    {
     "name": "stdout",
     "output_type": "stream",
     "text": [
      "\rEpisode 380 (7 sec)  -- \tMean Score =15.3 -- \t Avg: 15.8\n"
     ]
    },
    {
     "name": "stdout",
     "output_type": "stream",
     "text": [
      "\rEpisode 381 (7 sec)  -- \tMean Score =16.4 -- \t Avg: 15.9\n"
     ]
    },
    {
     "name": "stdout",
     "output_type": "stream",
     "text": [
      "\rEpisode 382 (7 sec)  -- \tMean Score =17.4 -- \t Avg: 15.9\n"
     ]
    },
    {
     "name": "stdout",
     "output_type": "stream",
     "text": [
      "\rEpisode 383 (7 sec)  -- \tMean Score =16.7 -- \t Avg: 15.9\n"
     ]
    },
    {
     "name": "stdout",
     "output_type": "stream",
     "text": [
      "\rEpisode 384 (7 sec)  -- \tMean Score =18.4 -- \t Avg: 15.9\n"
     ]
    },
    {
     "name": "stdout",
     "output_type": "stream",
     "text": [
      "\rEpisode 385 (7 sec)  -- \tMean Score =15.6 -- \t Avg: 15.9\n"
     ]
    },
    {
     "name": "stdout",
     "output_type": "stream",
     "text": [
      "\rEpisode 386 (7 sec)  -- \tMean Score =24.7 -- \t Avg: 16.0\n"
     ]
    },
    {
     "name": "stdout",
     "output_type": "stream",
     "text": [
      "\rEpisode 387 (7 sec)  -- \tMean Score =11.5 -- \t Avg: 15.9\n"
     ]
    },
    {
     "name": "stdout",
     "output_type": "stream",
     "text": [
      "\rEpisode 388 (7 sec)  -- \tMean Score =21.3 -- \t Avg: 16.0\n"
     ]
    },
    {
     "name": "stdout",
     "output_type": "stream",
     "text": [
      "\rEpisode 389 (7 sec)  -- \tMean Score =12.7 -- \t Avg: 16.1\n"
     ]
    },
    {
     "name": "stdout",
     "output_type": "stream",
     "text": [
      "\rEpisode 390 (7 sec)  -- \tMean Score =17.7 -- \t Avg: 16.2\n"
     ]
    },
    {
     "name": "stdout",
     "output_type": "stream",
     "text": [
      "\rEpisode 391 (7 sec)  -- \tMean Score =20.6 -- \t Avg: 16.3\n"
     ]
    },
    {
     "name": "stdout",
     "output_type": "stream",
     "text": [
      "\rEpisode 392 (7 sec)  -- \tMean Score =25.3 -- \t Avg: 16.4\n"
     ]
    },
    {
     "name": "stdout",
     "output_type": "stream",
     "text": [
      "\rEpisode 393 (7 sec)  -- \tMean Score =23.9 -- \t Avg: 16.5\n"
     ]
    },
    {
     "name": "stdout",
     "output_type": "stream",
     "text": [
      "\rEpisode 394 (7 sec)  -- \tMean Score =14.5 -- \t Avg: 16.5\n"
     ]
    },
    {
     "name": "stdout",
     "output_type": "stream",
     "text": [
      "\rEpisode 395 (7 sec)  -- \tMean Score =24.2 -- \t Avg: 16.6\n"
     ]
    },
    {
     "name": "stdout",
     "output_type": "stream",
     "text": [
      "\rEpisode 396 (7 sec)  -- \tMean Score =19.5 -- \t Avg: 16.7\n"
     ]
    },
    {
     "name": "stdout",
     "output_type": "stream",
     "text": [
      "\rEpisode 397 (7 sec)  -- \tMean Score =27.3 -- \t Avg: 16.8\n"
     ]
    },
    {
     "name": "stdout",
     "output_type": "stream",
     "text": [
      "\rEpisode 398 (7 sec)  -- \tMean Score =18.4 -- \t Avg: 16.8\n"
     ]
    },
    {
     "name": "stdout",
     "output_type": "stream",
     "text": [
      "\rEpisode 399 (7 sec)  -- \tMean Score =19.1 -- \t Avg: 16.8\n"
     ]
    },
    {
     "name": "stdout",
     "output_type": "stream",
     "text": [
      "\rEpisode 400 (7 sec)  -- \tMean Score =21.8 -- \t Avg: 16.9\n"
     ]
    },
    {
     "name": "stdout",
     "output_type": "stream",
     "text": [
      "\rEpisode 401 (7 sec)  -- \tMean Score =25.9 -- \t Avg: 17.1\n"
     ]
    },
    {
     "name": "stdout",
     "output_type": "stream",
     "text": [
      "\rEpisode 402 (7 sec)  -- \tMean Score =24.5 -- \t Avg: 17.1\n"
     ]
    },
    {
     "name": "stdout",
     "output_type": "stream",
     "text": [
      "\rEpisode 403 (7 sec)  -- \tMean Score =30.8 -- \t Avg: 17.3\n"
     ]
    },
    {
     "name": "stdout",
     "output_type": "stream",
     "text": [
      "\rEpisode 404 (7 sec)  -- \tMean Score =20.9 -- \t Avg: 17.3\n"
     ]
    },
    {
     "name": "stdout",
     "output_type": "stream",
     "text": [
      "\rEpisode 405 (7 sec)  -- \tMean Score =19.4 -- \t Avg: 17.3\n"
     ]
    },
    {
     "name": "stdout",
     "output_type": "stream",
     "text": [
      "\rEpisode 406 (7 sec)  -- \tMean Score =24.2 -- \t Avg: 17.4\n"
     ]
    },
    {
     "name": "stdout",
     "output_type": "stream",
     "text": [
      "\rEpisode 407 (7 sec)  -- \tMean Score =20.9 -- \t Avg: 17.5\n"
     ]
    },
    {
     "name": "stdout",
     "output_type": "stream",
     "text": [
      "\rEpisode 408 (7 sec)  -- \tMean Score =21.5 -- \t Avg: 17.5\n"
     ]
    },
    {
     "name": "stdout",
     "output_type": "stream",
     "text": [
      "\rEpisode 409 (7 sec)  -- \tMean Score =23.3 -- \t Avg: 17.6\n"
     ]
    },
    {
     "name": "stdout",
     "output_type": "stream",
     "text": [
      "\rEpisode 410 (7 sec)  -- \tMean Score =15.8 -- \t Avg: 17.5\n"
     ]
    },
    {
     "name": "stdout",
     "output_type": "stream",
     "text": [
      "\rEpisode 411 (7 sec)  -- \tMean Score =23.5 -- \t Avg: 17.6\n"
     ]
    },
    {
     "name": "stdout",
     "output_type": "stream",
     "text": [
      "\rEpisode 412 (7 sec)  -- \tMean Score =26.2 -- \t Avg: 17.7\n"
     ]
    },
    {
     "name": "stdout",
     "output_type": "stream",
     "text": [
      "\rEpisode 413 (7 sec)  -- \tMean Score =21.7 -- \t Avg: 17.8\n"
     ]
    },
    {
     "name": "stdout",
     "output_type": "stream",
     "text": [
      "\rEpisode 414 (7 sec)  -- \tMean Score =17.6 -- \t Avg: 17.9\n"
     ]
    },
    {
     "name": "stdout",
     "output_type": "stream",
     "text": [
      "\rEpisode 415 (7 sec)  -- \tMean Score =22.3 -- \t Avg: 17.9\n"
     ]
    },
    {
     "name": "stdout",
     "output_type": "stream",
     "text": [
      "\rEpisode 416 (7 sec)  -- \tMean Score =23.0 -- \t Avg: 17.9\n"
     ]
    },
    {
     "name": "stdout",
     "output_type": "stream",
     "text": [
      "\rEpisode 417 (7 sec)  -- \tMean Score =22.6 -- \t Avg: 18.0\n"
     ]
    },
    {
     "name": "stdout",
     "output_type": "stream",
     "text": [
      "\rEpisode 418 (7 sec)  -- \tMean Score =26.8 -- \t Avg: 18.0\n"
     ]
    },
    {
     "name": "stdout",
     "output_type": "stream",
     "text": [
      "\rEpisode 419 (7 sec)  -- \tMean Score =25.7 -- \t Avg: 18.1\n"
     ]
    },
    {
     "name": "stdout",
     "output_type": "stream",
     "text": [
      "\rEpisode 420 (7 sec)  -- \tMean Score =24.2 -- \t Avg: 18.2\n"
     ]
    },
    {
     "name": "stdout",
     "output_type": "stream",
     "text": [
      "\rEpisode 421 (7 sec)  -- \tMean Score =19.3 -- \t Avg: 18.2\n"
     ]
    },
    {
     "name": "stdout",
     "output_type": "stream",
     "text": [
      "\rEpisode 422 (7 sec)  -- \tMean Score =24.7 -- \t Avg: 18.3\n"
     ]
    },
    {
     "name": "stdout",
     "output_type": "stream",
     "text": [
      "\rEpisode 423 (7 sec)  -- \tMean Score =17.6 -- \t Avg: 18.4\n"
     ]
    },
    {
     "name": "stdout",
     "output_type": "stream",
     "text": [
      "\rEpisode 424 (7 sec)  -- \tMean Score =13.7 -- \t Avg: 18.4\n"
     ]
    },
    {
     "name": "stdout",
     "output_type": "stream",
     "text": [
      "\rEpisode 425 (7 sec)  -- \tMean Score =24.1 -- \t Avg: 18.5\n"
     ]
    },
    {
     "name": "stdout",
     "output_type": "stream",
     "text": [
      "\rEpisode 426 (7 sec)  -- \tMean Score =21.9 -- \t Avg: 18.5\n"
     ]
    },
    {
     "name": "stdout",
     "output_type": "stream",
     "text": [
      "\rEpisode 427 (7 sec)  -- \tMean Score =27.5 -- \t Avg: 18.7\n"
     ]
    },
    {
     "name": "stdout",
     "output_type": "stream",
     "text": [
      "\rEpisode 428 (7 sec)  -- \tMean Score =17.3 -- \t Avg: 18.8\n"
     ]
    },
    {
     "name": "stdout",
     "output_type": "stream",
     "text": [
      "\rEpisode 429 (7 sec)  -- \tMean Score =16.4 -- \t Avg: 18.6\n"
     ]
    },
    {
     "name": "stdout",
     "output_type": "stream",
     "text": [
      "\rEpisode 430 (7 sec)  -- \tMean Score =23.1 -- \t Avg: 18.7\n"
     ]
    },
    {
     "name": "stdout",
     "output_type": "stream",
     "text": [
      "\rEpisode 431 (7 sec)  -- \tMean Score =13.7 -- \t Avg: 18.8\n"
     ]
    },
    {
     "name": "stdout",
     "output_type": "stream",
     "text": [
      "\rEpisode 432 (7 sec)  -- \tMean Score =16.6 -- \t Avg: 18.7\n"
     ]
    },
    {
     "name": "stdout",
     "output_type": "stream",
     "text": [
      "\rEpisode 433 (7 sec)  -- \tMean Score =20.8 -- \t Avg: 18.8\n"
     ]
    },
    {
     "name": "stdout",
     "output_type": "stream",
     "text": [
      "\rEpisode 434 (7 sec)  -- \tMean Score =24.4 -- \t Avg: 18.8\n"
     ]
    },
    {
     "name": "stdout",
     "output_type": "stream",
     "text": [
      "\rEpisode 435 (8 sec)  -- \tMean Score =22.7 -- \t Avg: 18.9\n"
     ]
    },
    {
     "name": "stdout",
     "output_type": "stream",
     "text": [
      "\rEpisode 436 (7 sec)  -- \tMean Score =22.0 -- \t Avg: 19.0\n"
     ]
    },
    {
     "name": "stdout",
     "output_type": "stream",
     "text": [
      "\rEpisode 437 (7 sec)  -- \tMean Score =23.8 -- \t Avg: 19.0\n"
     ]
    },
    {
     "name": "stdout",
     "output_type": "stream",
     "text": [
      "\rEpisode 438 (7 sec)  -- \tMean Score =22.0 -- \t Avg: 19.0\n"
     ]
    },
    {
     "name": "stdout",
     "output_type": "stream",
     "text": [
      "\rEpisode 439 (7 sec)  -- \tMean Score =27.4 -- \t Avg: 19.1\n"
     ]
    },
    {
     "name": "stdout",
     "output_type": "stream",
     "text": [
      "\rEpisode 440 (7 sec)  -- \tMean Score =16.4 -- \t Avg: 19.1\n"
     ]
    },
    {
     "name": "stdout",
     "output_type": "stream",
     "text": [
      "\rEpisode 441 (7 sec)  -- \tMean Score =21.5 -- \t Avg: 19.2\n"
     ]
    },
    {
     "name": "stdout",
     "output_type": "stream",
     "text": [
      "\rEpisode 442 (7 sec)  -- \tMean Score =25.5 -- \t Avg: 19.4\n"
     ]
    },
    {
     "name": "stdout",
     "output_type": "stream",
     "text": [
      "\rEpisode 443 (7 sec)  -- \tMean Score =18.4 -- \t Avg: 19.4\n"
     ]
    },
    {
     "name": "stdout",
     "output_type": "stream",
     "text": [
      "\rEpisode 444 (8 sec)  -- \tMean Score =20.8 -- \t Avg: 19.3\n"
     ]
    },
    {
     "name": "stdout",
     "output_type": "stream",
     "text": [
      "\rEpisode 445 (8 sec)  -- \tMean Score =24.9 -- \t Avg: 19.5\n"
     ]
    },
    {
     "name": "stdout",
     "output_type": "stream",
     "text": [
      "\rEpisode 446 (9 sec)  -- \tMean Score =24.1 -- \t Avg: 19.6\n"
     ]
    },
    {
     "name": "stdout",
     "output_type": "stream",
     "text": [
      "\rEpisode 447 (8 sec)  -- \tMean Score =23.8 -- \t Avg: 19.7\n"
     ]
    },
    {
     "name": "stdout",
     "output_type": "stream",
     "text": [
      "\rEpisode 448 (7 sec)  -- \tMean Score =22.7 -- \t Avg: 19.7\n"
     ]
    },
    {
     "name": "stdout",
     "output_type": "stream",
     "text": [
      "\rEpisode 449 (7 sec)  -- \tMean Score =22.8 -- \t Avg: 19.8\n"
     ]
    },
    {
     "name": "stdout",
     "output_type": "stream",
     "text": [
      "\rEpisode 450 (7 sec)  -- \tMean Score =19.0 -- \t Avg: 19.7\n"
     ]
    },
    {
     "name": "stdout",
     "output_type": "stream",
     "text": [
      "\rEpisode 451 (8 sec)  -- \tMean Score =25.3 -- \t Avg: 19.8\n"
     ]
    },
    {
     "name": "stdout",
     "output_type": "stream",
     "text": [
      "\rEpisode 452 (7 sec)  -- \tMean Score =22.3 -- \t Avg: 19.8\n"
     ]
    },
    {
     "name": "stdout",
     "output_type": "stream",
     "text": [
      "\rEpisode 453 (7 sec)  -- \tMean Score =26.4 -- \t Avg: 20.0\n"
     ]
    },
    {
     "name": "stdout",
     "output_type": "stream",
     "text": [
      "\rEpisode 454 (8 sec)  -- \tMean Score =22.1 -- \t Avg: 20.1\n"
     ]
    },
    {
     "name": "stdout",
     "output_type": "stream",
     "text": [
      "\rEpisode 455 (8 sec)  -- \tMean Score =19.9 -- \t Avg: 20.1\n"
     ]
    },
    {
     "name": "stdout",
     "output_type": "stream",
     "text": [
      "\rEpisode 456 (7 sec)  -- \tMean Score =25.4 -- \t Avg: 20.3\n"
     ]
    },
    {
     "name": "stdout",
     "output_type": "stream",
     "text": [
      "\rEpisode 457 (7 sec)  -- \tMean Score =23.5 -- \t Avg: 20.3\n"
     ]
    },
    {
     "name": "stdout",
     "output_type": "stream",
     "text": [
      "\rEpisode 458 (7 sec)  -- \tMean Score =21.6 -- \t Avg: 20.4\n"
     ]
    },
    {
     "name": "stdout",
     "output_type": "stream",
     "text": [
      "\rEpisode 459 (7 sec)  -- \tMean Score =30.9 -- \t Avg: 20.6\n"
     ]
    },
    {
     "name": "stdout",
     "output_type": "stream",
     "text": [
      "\rEpisode 460 (7 sec)  -- \tMean Score =35.7 -- \t Avg: 20.9\n"
     ]
    },
    {
     "name": "stdout",
     "output_type": "stream",
     "text": [
      "\rEpisode 461 (7 sec)  -- \tMean Score =23.5 -- \t Avg: 21.0\n"
     ]
    },
    {
     "name": "stdout",
     "output_type": "stream",
     "text": [
      "\rEpisode 462 (7 sec)  -- \tMean Score =28.2 -- \t Avg: 21.1\n"
     ]
    },
    {
     "name": "stdout",
     "output_type": "stream",
     "text": [
      "\rEpisode 463 (7 sec)  -- \tMean Score =20.5 -- \t Avg: 21.0\n"
     ]
    },
    {
     "name": "stdout",
     "output_type": "stream",
     "text": [
      "\rEpisode 464 (7 sec)  -- \tMean Score =30.6 -- \t Avg: 21.1\n"
     ]
    },
    {
     "name": "stdout",
     "output_type": "stream",
     "text": [
      "\rEpisode 465 (7 sec)  -- \tMean Score =26.8 -- \t Avg: 21.2\n"
     ]
    },
    {
     "name": "stdout",
     "output_type": "stream",
     "text": [
      "\rEpisode 466 (7 sec)  -- \tMean Score =30.1 -- \t Avg: 21.4\n"
     ]
    },
    {
     "name": "stdout",
     "output_type": "stream",
     "text": [
      "\rEpisode 467 (7 sec)  -- \tMean Score =25.4 -- \t Avg: 21.5\n"
     ]
    },
    {
     "name": "stdout",
     "output_type": "stream",
     "text": [
      "\rEpisode 468 (7 sec)  -- \tMean Score =31.0 -- \t Avg: 21.7\n"
     ]
    },
    {
     "name": "stdout",
     "output_type": "stream",
     "text": [
      "\rEpisode 469 (7 sec)  -- \tMean Score =25.7 -- \t Avg: 21.8\n"
     ]
    },
    {
     "name": "stdout",
     "output_type": "stream",
     "text": [
      "\rEpisode 470 (7 sec)  -- \tMean Score =26.2 -- \t Avg: 21.9\n"
     ]
    },
    {
     "name": "stdout",
     "output_type": "stream",
     "text": [
      "\rEpisode 471 (7 sec)  -- \tMean Score =19.1 -- \t Avg: 22.0\n"
     ]
    },
    {
     "name": "stdout",
     "output_type": "stream",
     "text": [
      "\rEpisode 472 (7 sec)  -- \tMean Score =31.6 -- \t Avg: 22.0\n"
     ]
    },
    {
     "name": "stdout",
     "output_type": "stream",
     "text": [
      "\rEpisode 473 (7 sec)  -- \tMean Score =25.8 -- \t Avg: 22.1\n"
     ]
    },
    {
     "name": "stdout",
     "output_type": "stream",
     "text": [
      "\rEpisode 474 (7 sec)  -- \tMean Score =26.3 -- \t Avg: 22.2\n"
     ]
    },
    {
     "name": "stdout",
     "output_type": "stream",
     "text": [
      "\rEpisode 475 (7 sec)  -- \tMean Score =26.6 -- \t Avg: 22.3\n"
     ]
    },
    {
     "name": "stdout",
     "output_type": "stream",
     "text": [
      "\rEpisode 476 (7 sec)  -- \tMean Score =21.3 -- \t Avg: 22.2\n"
     ]
    },
    {
     "name": "stdout",
     "output_type": "stream",
     "text": [
      "\rEpisode 477 (7 sec)  -- \tMean Score =29.8 -- \t Avg: 22.4\n"
     ]
    },
    {
     "name": "stdout",
     "output_type": "stream",
     "text": [
      "\rEpisode 478 (7 sec)  -- \tMean Score =25.0 -- \t Avg: 22.5\n"
     ]
    },
    {
     "name": "stdout",
     "output_type": "stream",
     "text": [
      "\rEpisode 479 (8 sec)  -- \tMean Score =29.4 -- \t Avg: 22.6\n"
     ]
    },
    {
     "name": "stdout",
     "output_type": "stream",
     "text": [
      "\rEpisode 480 (8 sec)  -- \tMean Score =29.5 -- \t Avg: 22.7\n"
     ]
    },
    {
     "name": "stdout",
     "output_type": "stream",
     "text": [
      "\rEpisode 481 (7 sec)  -- \tMean Score =28.5 -- \t Avg: 22.8\n"
     ]
    },
    {
     "name": "stdout",
     "output_type": "stream",
     "text": [
      "\rEpisode 482 (7 sec)  -- \tMean Score =26.4 -- \t Avg: 22.9\n"
     ]
    },
    {
     "name": "stdout",
     "output_type": "stream",
     "text": [
      "\rEpisode 483 (7 sec)  -- \tMean Score =23.1 -- \t Avg: 23.0\n"
     ]
    },
    {
     "name": "stdout",
     "output_type": "stream",
     "text": [
      "\rEpisode 484 (7 sec)  -- \tMean Score =26.7 -- \t Avg: 23.1\n"
     ]
    },
    {
     "name": "stdout",
     "output_type": "stream",
     "text": [
      "\rEpisode 485 (7 sec)  -- \tMean Score =26.7 -- \t Avg: 23.2\n"
     ]
    },
    {
     "name": "stdout",
     "output_type": "stream",
     "text": [
      "\rEpisode 486 (7 sec)  -- \tMean Score =29.2 -- \t Avg: 23.2\n"
     ]
    },
    {
     "name": "stdout",
     "output_type": "stream",
     "text": [
      "\rEpisode 487 (7 sec)  -- \tMean Score =28.8 -- \t Avg: 23.4\n"
     ]
    },
    {
     "name": "stdout",
     "output_type": "stream",
     "text": [
      "\rEpisode 488 (7 sec)  -- \tMean Score =35.6 -- \t Avg: 23.6\n"
     ]
    },
    {
     "name": "stdout",
     "output_type": "stream",
     "text": [
      "\rEpisode 489 (7 sec)  -- \tMean Score =34.5 -- \t Avg: 23.8\n"
     ]
    },
    {
     "name": "stdout",
     "output_type": "stream",
     "text": [
      "\rEpisode 490 (7 sec)  -- \tMean Score =21.5 -- \t Avg: 23.8\n"
     ]
    },
    {
     "name": "stdout",
     "output_type": "stream",
     "text": [
      "\rEpisode 491 (7 sec)  -- \tMean Score =31.6 -- \t Avg: 23.9\n"
     ]
    },
    {
     "name": "stdout",
     "output_type": "stream",
     "text": [
      "\rEpisode 492 (7 sec)  -- \tMean Score =24.8 -- \t Avg: 23.9\n"
     ]
    },
    {
     "name": "stdout",
     "output_type": "stream",
     "text": [
      "\rEpisode 493 (7 sec)  -- \tMean Score =27.4 -- \t Avg: 23.9\n"
     ]
    },
    {
     "name": "stdout",
     "output_type": "stream",
     "text": [
      "\rEpisode 494 (7 sec)  -- \tMean Score =34.4 -- \t Avg: 24.1\n"
     ]
    },
    {
     "name": "stdout",
     "output_type": "stream",
     "text": [
      "\rEpisode 495 (7 sec)  -- \tMean Score =23.2 -- \t Avg: 24.1\n"
     ]
    },
    {
     "name": "stdout",
     "output_type": "stream",
     "text": [
      "\rEpisode 496 (7 sec)  -- \tMean Score =31.6 -- \t Avg: 24.3\n"
     ]
    },
    {
     "name": "stdout",
     "output_type": "stream",
     "text": [
      "\rEpisode 497 (7 sec)  -- \tMean Score =25.4 -- \t Avg: 24.2\n"
     ]
    },
    {
     "name": "stdout",
     "output_type": "stream",
     "text": [
      "\rEpisode 498 (7 sec)  -- \tMean Score =23.7 -- \t Avg: 24.3\n"
     ]
    },
    {
     "name": "stdout",
     "output_type": "stream",
     "text": [
      "\rEpisode 499 (7 sec)  -- \tMean Score =17.8 -- \t Avg: 24.3\n"
     ]
    },
    {
     "name": "stdout",
     "output_type": "stream",
     "text": [
      "\rEpisode 500 (7 sec)  -- \tMean Score =26.3 -- \t Avg: 24.3\n"
     ]
    },
    {
     "name": "stdout",
     "output_type": "stream",
     "text": [
      "\rEpisode 501 (7 sec)  -- \tMean Score =31.3 -- \t Avg: 24.4\n"
     ]
    },
    {
     "name": "stdout",
     "output_type": "stream",
     "text": [
      "\rEpisode 502 (7 sec)  -- \tMean Score =29.8 -- \t Avg: 24.4\n"
     ]
    },
    {
     "name": "stdout",
     "output_type": "stream",
     "text": [
      "\rEpisode 503 (7 sec)  -- \tMean Score =25.2 -- \t Avg: 24.4\n"
     ]
    },
    {
     "name": "stdout",
     "output_type": "stream",
     "text": [
      "\rEpisode 504 (7 sec)  -- \tMean Score =36.1 -- \t Avg: 24.5\n"
     ]
    },
    {
     "name": "stdout",
     "output_type": "stream",
     "text": [
      "\rEpisode 505 (7 sec)  -- \tMean Score =23.6 -- \t Avg: 24.6\n"
     ]
    },
    {
     "name": "stdout",
     "output_type": "stream",
     "text": [
      "\rEpisode 506 (7 sec)  -- \tMean Score =34.7 -- \t Avg: 24.7\n"
     ]
    },
    {
     "name": "stdout",
     "output_type": "stream",
     "text": [
      "\rEpisode 507 (7 sec)  -- \tMean Score =32.4 -- \t Avg: 24.8\n"
     ]
    },
    {
     "name": "stdout",
     "output_type": "stream",
     "text": [
      "\rEpisode 508 (7 sec)  -- \tMean Score =28.8 -- \t Avg: 24.9\n"
     ]
    },
    {
     "name": "stdout",
     "output_type": "stream",
     "text": [
      "\rEpisode 509 (7 sec)  -- \tMean Score =27.6 -- \t Avg: 24.9\n"
     ]
    },
    {
     "name": "stdout",
     "output_type": "stream",
     "text": [
      "\rEpisode 510 (7 sec)  -- \tMean Score =19.4 -- \t Avg: 24.9\n"
     ]
    },
    {
     "name": "stdout",
     "output_type": "stream",
     "text": [
      "\rEpisode 511 (7 sec)  -- \tMean Score =25.3 -- \t Avg: 25.0\n"
     ]
    },
    {
     "name": "stdout",
     "output_type": "stream",
     "text": [
      "\rEpisode 512 (7 sec)  -- \tMean Score =34.4 -- \t Avg: 25.0\n"
     ]
    },
    {
     "name": "stdout",
     "output_type": "stream",
     "text": [
      "\rEpisode 513 (7 sec)  -- \tMean Score =29.1 -- \t Avg: 25.1\n"
     ]
    },
    {
     "name": "stdout",
     "output_type": "stream",
     "text": [
      "\rEpisode 514 (7 sec)  -- \tMean Score =23.8 -- \t Avg: 25.2\n"
     ]
    },
    {
     "name": "stdout",
     "output_type": "stream",
     "text": [
      "\rEpisode 515 (7 sec)  -- \tMean Score =33.0 -- \t Avg: 25.3\n"
     ]
    },
    {
     "name": "stdout",
     "output_type": "stream",
     "text": [
      "\rEpisode 516 (8 sec)  -- \tMean Score =38.2 -- \t Avg: 25.4\n"
     ]
    },
    {
     "name": "stdout",
     "output_type": "stream",
     "text": [
      "\rEpisode 517 (8 sec)  -- \tMean Score =20.2 -- \t Avg: 25.4\n"
     ]
    },
    {
     "name": "stdout",
     "output_type": "stream",
     "text": [
      "\rEpisode 518 (8 sec)  -- \tMean Score =30.3 -- \t Avg: 25.4\n"
     ]
    },
    {
     "name": "stdout",
     "output_type": "stream",
     "text": [
      "\rEpisode 519 (7 sec)  -- \tMean Score =20.3 -- \t Avg: 25.4\n"
     ]
    },
    {
     "name": "stdout",
     "output_type": "stream",
     "text": [
      "\rEpisode 520 (7 sec)  -- \tMean Score =29.0 -- \t Avg: 25.4\n"
     ]
    },
    {
     "name": "stdout",
     "output_type": "stream",
     "text": [
      "\rEpisode 521 (7 sec)  -- \tMean Score =19.2 -- \t Avg: 25.4\n"
     ]
    },
    {
     "name": "stdout",
     "output_type": "stream",
     "text": [
      "\rEpisode 522 (7 sec)  -- \tMean Score =23.8 -- \t Avg: 25.4\n"
     ]
    },
    {
     "name": "stdout",
     "output_type": "stream",
     "text": [
      "\rEpisode 523 (7 sec)  -- \tMean Score =19.5 -- \t Avg: 25.4\n"
     ]
    },
    {
     "name": "stdout",
     "output_type": "stream",
     "text": [
      "\rEpisode 524 (7 sec)  -- \tMean Score =26.2 -- \t Avg: 25.6\n"
     ]
    },
    {
     "name": "stdout",
     "output_type": "stream",
     "text": [
      "\rEpisode 525 (7 sec)  -- \tMean Score =23.4 -- \t Avg: 25.6\n"
     ]
    },
    {
     "name": "stdout",
     "output_type": "stream",
     "text": [
      "\rEpisode 526 (7 sec)  -- \tMean Score =20.3 -- \t Avg: 25.6\n"
     ]
    },
    {
     "name": "stdout",
     "output_type": "stream",
     "text": [
      "\rEpisode 527 (7 sec)  -- \tMean Score =29.4 -- \t Avg: 25.6\n"
     ]
    },
    {
     "name": "stdout",
     "output_type": "stream",
     "text": [
      "\rEpisode 528 (7 sec)  -- \tMean Score =31.2 -- \t Avg: 25.7\n"
     ]
    },
    {
     "name": "stdout",
     "output_type": "stream",
     "text": [
      "\rEpisode 529 (7 sec)  -- \tMean Score =26.3 -- \t Avg: 25.8\n"
     ]
    },
    {
     "name": "stdout",
     "output_type": "stream",
     "text": [
      "\rEpisode 530 (7 sec)  -- \tMean Score =33.8 -- \t Avg: 25.9\n"
     ]
    },
    {
     "name": "stdout",
     "output_type": "stream",
     "text": [
      "\rEpisode 531 (7 sec)  -- \tMean Score =31.1 -- \t Avg: 26.1\n"
     ]
    },
    {
     "name": "stdout",
     "output_type": "stream",
     "text": [
      "\rEpisode 532 (7 sec)  -- \tMean Score =29.9 -- \t Avg: 26.2\n"
     ]
    },
    {
     "name": "stdout",
     "output_type": "stream",
     "text": [
      "\rEpisode 533 (7 sec)  -- \tMean Score =29.3 -- \t Avg: 26.3\n"
     ]
    },
    {
     "name": "stdout",
     "output_type": "stream",
     "text": [
      "\rEpisode 534 (7 sec)  -- \tMean Score =37.1 -- \t Avg: 26.4\n"
     ]
    },
    {
     "name": "stdout",
     "output_type": "stream",
     "text": [
      "\rEpisode 535 (7 sec)  -- \tMean Score =25.4 -- \t Avg: 26.5\n"
     ]
    },
    {
     "name": "stdout",
     "output_type": "stream",
     "text": [
      "\rEpisode 536 (7 sec)  -- \tMean Score =35.6 -- \t Avg: 26.6\n"
     ]
    },
    {
     "name": "stdout",
     "output_type": "stream",
     "text": [
      "\rEpisode 537 (7 sec)  -- \tMean Score =30.9 -- \t Avg: 26.7\n"
     ]
    },
    {
     "name": "stdout",
     "output_type": "stream",
     "text": [
      "\rEpisode 538 (7 sec)  -- \tMean Score =25.3 -- \t Avg: 26.7\n"
     ]
    },
    {
     "name": "stdout",
     "output_type": "stream",
     "text": [
      "\rEpisode 539 (7 sec)  -- \tMean Score =34.8 -- \t Avg: 26.8\n"
     ]
    },
    {
     "name": "stdout",
     "output_type": "stream",
     "text": [
      "\rEpisode 540 (7 sec)  -- \tMean Score =23.8 -- \t Avg: 26.9\n"
     ]
    },
    {
     "name": "stdout",
     "output_type": "stream",
     "text": [
      "\rEpisode 541 (7 sec)  -- \tMean Score =30.9 -- \t Avg: 26.9\n"
     ]
    },
    {
     "name": "stdout",
     "output_type": "stream",
     "text": [
      "\rEpisode 542 (7 sec)  -- \tMean Score =33.4 -- \t Avg: 27.0\n"
     ]
    },
    {
     "name": "stdout",
     "output_type": "stream",
     "text": [
      "\rEpisode 543 (7 sec)  -- \tMean Score =28.6 -- \t Avg: 27.1\n"
     ]
    },
    {
     "name": "stdout",
     "output_type": "stream",
     "text": [
      "\rEpisode 544 (7 sec)  -- \tMean Score =20.9 -- \t Avg: 27.1\n"
     ]
    },
    {
     "name": "stdout",
     "output_type": "stream",
     "text": [
      "\rEpisode 545 (7 sec)  -- \tMean Score =24.5 -- \t Avg: 27.1\n"
     ]
    },
    {
     "name": "stdout",
     "output_type": "stream",
     "text": [
      "\rEpisode 546 (7 sec)  -- \tMean Score =30.1 -- \t Avg: 27.2\n"
     ]
    },
    {
     "name": "stdout",
     "output_type": "stream",
     "text": [
      "\rEpisode 547 (7 sec)  -- \tMean Score =26.2 -- \t Avg: 27.2\n"
     ]
    },
    {
     "name": "stdout",
     "output_type": "stream",
     "text": [
      "\rEpisode 548 (7 sec)  -- \tMean Score =31.0 -- \t Avg: 27.3\n"
     ]
    },
    {
     "name": "stdout",
     "output_type": "stream",
     "text": [
      "\rEpisode 549 (7 sec)  -- \tMean Score =35.4 -- \t Avg: 27.4\n"
     ]
    },
    {
     "name": "stdout",
     "output_type": "stream",
     "text": [
      "\rEpisode 550 (7 sec)  -- \tMean Score =31.1 -- \t Avg: 27.5\n"
     ]
    },
    {
     "name": "stdout",
     "output_type": "stream",
     "text": [
      "\rEpisode 551 (7 sec)  -- \tMean Score =22.1 -- \t Avg: 27.5\n"
     ]
    },
    {
     "name": "stdout",
     "output_type": "stream",
     "text": [
      "\rEpisode 552 (7 sec)  -- \tMean Score =25.0 -- \t Avg: 27.5\n"
     ]
    },
    {
     "name": "stdout",
     "output_type": "stream",
     "text": [
      "\rEpisode 553 (7 sec)  -- \tMean Score =26.4 -- \t Avg: 27.5\n"
     ]
    },
    {
     "name": "stdout",
     "output_type": "stream",
     "text": [
      "\rEpisode 554 (7 sec)  -- \tMean Score =31.4 -- \t Avg: 27.6\n"
     ]
    },
    {
     "name": "stdout",
     "output_type": "stream",
     "text": [
      "\rEpisode 555 (7 sec)  -- \tMean Score =29.3 -- \t Avg: 27.7\n"
     ]
    },
    {
     "name": "stdout",
     "output_type": "stream",
     "text": [
      "\rEpisode 556 (7 sec)  -- \tMean Score =34.9 -- \t Avg: 27.8\n"
     ]
    },
    {
     "name": "stdout",
     "output_type": "stream",
     "text": [
      "\rEpisode 557 (7 sec)  -- \tMean Score =22.7 -- \t Avg: 27.8\n"
     ]
    },
    {
     "name": "stdout",
     "output_type": "stream",
     "text": [
      "\rEpisode 558 (7 sec)  -- \tMean Score =27.8 -- \t Avg: 27.9\n"
     ]
    },
    {
     "name": "stdout",
     "output_type": "stream",
     "text": [
      "\rEpisode 559 (7 sec)  -- \tMean Score =32.1 -- \t Avg: 27.9\n"
     ]
    },
    {
     "name": "stdout",
     "output_type": "stream",
     "text": [
      "\rEpisode 560 (7 sec)  -- \tMean Score =31.4 -- \t Avg: 27.8\n"
     ]
    },
    {
     "name": "stdout",
     "output_type": "stream",
     "text": [
      "\rEpisode 561 (7 sec)  -- \tMean Score =22.9 -- \t Avg: 27.8\n"
     ]
    },
    {
     "name": "stdout",
     "output_type": "stream",
     "text": [
      "\rEpisode 562 (7 sec)  -- \tMean Score =32.9 -- \t Avg: 27.9\n"
     ]
    },
    {
     "name": "stdout",
     "output_type": "stream",
     "text": [
      "\rEpisode 563 (7 sec)  -- \tMean Score =26.8 -- \t Avg: 27.9\n"
     ]
    },
    {
     "name": "stdout",
     "output_type": "stream",
     "text": [
      "\rEpisode 564 (7 sec)  -- \tMean Score =31.8 -- \t Avg: 28.0\n"
     ]
    },
    {
     "name": "stdout",
     "output_type": "stream",
     "text": [
      "\rEpisode 565 (7 sec)  -- \tMean Score =24.4 -- \t Avg: 27.9\n"
     ]
    },
    {
     "name": "stdout",
     "output_type": "stream",
     "text": [
      "\rEpisode 566 (7 sec)  -- \tMean Score =28.8 -- \t Avg: 27.9\n"
     ]
    },
    {
     "name": "stdout",
     "output_type": "stream",
     "text": [
      "\rEpisode 567 (7 sec)  -- \tMean Score =31.4 -- \t Avg: 28.0\n"
     ]
    },
    {
     "name": "stdout",
     "output_type": "stream",
     "text": [
      "\rEpisode 568 (7 sec)  -- \tMean Score =32.2 -- \t Avg: 28.0\n"
     ]
    },
    {
     "name": "stdout",
     "output_type": "stream",
     "text": [
      "\rEpisode 569 (7 sec)  -- \tMean Score =31.1 -- \t Avg: 28.0\n"
     ]
    },
    {
     "name": "stdout",
     "output_type": "stream",
     "text": [
      "\rEpisode 570 (7 sec)  -- \tMean Score =35.1 -- \t Avg: 28.1\n"
     ]
    },
    {
     "name": "stdout",
     "output_type": "stream",
     "text": [
      "\rEpisode 571 (7 sec)  -- \tMean Score =29.8 -- \t Avg: 28.2\n"
     ]
    },
    {
     "name": "stdout",
     "output_type": "stream",
     "text": [
      "\rEpisode 572 (7 sec)  -- \tMean Score =29.2 -- \t Avg: 28.2\n"
     ]
    },
    {
     "name": "stdout",
     "output_type": "stream",
     "text": [
      "\rEpisode 573 (7 sec)  -- \tMean Score =37.3 -- \t Avg: 28.3\n"
     ]
    },
    {
     "name": "stdout",
     "output_type": "stream",
     "text": [
      "\rEpisode 574 (7 sec)  -- \tMean Score =34.7 -- \t Avg: 28.4\n"
     ]
    },
    {
     "name": "stdout",
     "output_type": "stream",
     "text": [
      "\rEpisode 575 (7 sec)  -- \tMean Score =28.0 -- \t Avg: 28.4\n"
     ]
    },
    {
     "name": "stdout",
     "output_type": "stream",
     "text": [
      "\rEpisode 576 (7 sec)  -- \tMean Score =29.1 -- \t Avg: 28.5\n"
     ]
    },
    {
     "name": "stdout",
     "output_type": "stream",
     "text": [
      "\rEpisode 577 (8 sec)  -- \tMean Score =29.8 -- \t Avg: 28.5\n"
     ]
    },
    {
     "name": "stdout",
     "output_type": "stream",
     "text": [
      "\rEpisode 578 (7 sec)  -- \tMean Score =27.0 -- \t Avg: 28.5\n"
     ]
    },
    {
     "name": "stdout",
     "output_type": "stream",
     "text": [
      "\rEpisode 579 (7 sec)  -- \tMean Score =32.4 -- \t Avg: 28.6\n"
     ]
    },
    {
     "name": "stdout",
     "output_type": "stream",
     "text": [
      "\rEpisode 580 (7 sec)  -- \tMean Score =32.0 -- \t Avg: 28.6\n"
     ]
    },
    {
     "name": "stdout",
     "output_type": "stream",
     "text": [
      "\rEpisode 581 (7 sec)  -- \tMean Score =32.9 -- \t Avg: 28.6\n"
     ]
    },
    {
     "name": "stdout",
     "output_type": "stream",
     "text": [
      "\rEpisode 582 (7 sec)  -- \tMean Score =17.1 -- \t Avg: 28.5\n"
     ]
    },
    {
     "name": "stdout",
     "output_type": "stream",
     "text": [
      "\rEpisode 583 (8 sec)  -- \tMean Score =28.6 -- \t Avg: 28.6\n"
     ]
    },
    {
     "name": "stdout",
     "output_type": "stream",
     "text": [
      "\rEpisode 584 (8 sec)  -- \tMean Score =35.4 -- \t Avg: 28.7\n"
     ]
    },
    {
     "name": "stdout",
     "output_type": "stream",
     "text": [
      "\rEpisode 585 (8 sec)  -- \tMean Score =28.4 -- \t Avg: 28.7\n"
     ]
    },
    {
     "name": "stdout",
     "output_type": "stream",
     "text": [
      "\rEpisode 586 (7 sec)  -- \tMean Score =32.1 -- \t Avg: 28.7\n"
     ]
    },
    {
     "name": "stdout",
     "output_type": "stream",
     "text": [
      "\rEpisode 587 (7 sec)  -- \tMean Score =32.2 -- \t Avg: 28.8\n"
     ]
    },
    {
     "name": "stdout",
     "output_type": "stream",
     "text": [
      "\rEpisode 588 (7 sec)  -- \tMean Score =30.7 -- \t Avg: 28.7\n"
     ]
    },
    {
     "name": "stdout",
     "output_type": "stream",
     "text": [
      "\rEpisode 589 (7 sec)  -- \tMean Score =34.0 -- \t Avg: 28.7\n"
     ]
    },
    {
     "name": "stdout",
     "output_type": "stream",
     "text": [
      "\rEpisode 590 (7 sec)  -- \tMean Score =27.6 -- \t Avg: 28.8\n"
     ]
    },
    {
     "name": "stdout",
     "output_type": "stream",
     "text": [
      "\rEpisode 591 (8 sec)  -- \tMean Score =12.0 -- \t Avg: 28.6\n"
     ]
    },
    {
     "name": "stdout",
     "output_type": "stream",
     "text": [
      "\rEpisode 592 (7 sec)  -- \tMean Score =32.5 -- \t Avg: 28.6\n"
     ]
    },
    {
     "name": "stdout",
     "output_type": "stream",
     "text": [
      "\rEpisode 593 (7 sec)  -- \tMean Score =38.4 -- \t Avg: 28.8\n"
     ]
    },
    {
     "name": "stdout",
     "output_type": "stream",
     "text": [
      "\rEpisode 594 (7 sec)  -- \tMean Score =25.8 -- \t Avg: 28.7\n"
     ]
    },
    {
     "name": "stdout",
     "output_type": "stream",
     "text": [
      "\rEpisode 595 (7 sec)  -- \tMean Score =34.5 -- \t Avg: 28.8\n"
     ]
    },
    {
     "name": "stdout",
     "output_type": "stream",
     "text": [
      "\rEpisode 596 (7 sec)  -- \tMean Score =28.0 -- \t Avg: 28.7\n"
     ]
    },
    {
     "name": "stdout",
     "output_type": "stream",
     "text": [
      "\rEpisode 597 (7 sec)  -- \tMean Score =23.0 -- \t Avg: 28.7\n"
     ]
    },
    {
     "name": "stdout",
     "output_type": "stream",
     "text": [
      "\rEpisode 598 (7 sec)  -- \tMean Score =28.8 -- \t Avg: 28.8\n"
     ]
    },
    {
     "name": "stdout",
     "output_type": "stream",
     "text": [
      "\rEpisode 599 (7 sec)  -- \tMean Score =33.9 -- \t Avg: 28.9\n"
     ]
    },
    {
     "name": "stdout",
     "output_type": "stream",
     "text": [
      "\rEpisode 600 (7 sec)  -- \tMean Score =30.7 -- \t Avg: 29.0\n"
     ]
    },
    {
     "name": "stdout",
     "output_type": "stream",
     "text": [
      "\rEpisode 601 (8 sec)  -- \tMean Score =36.9 -- \t Avg: 29.0\n"
     ]
    },
    {
     "name": "stdout",
     "output_type": "stream",
     "text": [
      "\rEpisode 602 (7 sec)  -- \tMean Score =28.7 -- \t Avg: 29.0\n"
     ]
    },
    {
     "name": "stdout",
     "output_type": "stream",
     "text": [
      "\rEpisode 603 (7 sec)  -- \tMean Score =31.8 -- \t Avg: 29.1\n"
     ]
    },
    {
     "name": "stdout",
     "output_type": "stream",
     "text": [
      "\rEpisode 604 (7 sec)  -- \tMean Score =30.0 -- \t Avg: 29.0\n"
     ]
    },
    {
     "name": "stdout",
     "output_type": "stream",
     "text": [
      "\rEpisode 605 (7 sec)  -- \tMean Score =27.3 -- \t Avg: 29.1\n"
     ]
    },
    {
     "name": "stdout",
     "output_type": "stream",
     "text": [
      "\rEpisode 606 (7 sec)  -- \tMean Score =33.3 -- \t Avg: 29.0\n"
     ]
    },
    {
     "name": "stdout",
     "output_type": "stream",
     "text": [
      "\rEpisode 607 (7 sec)  -- \tMean Score =21.2 -- \t Avg: 28.9\n"
     ]
    },
    {
     "name": "stdout",
     "output_type": "stream",
     "text": [
      "\rEpisode 608 (7 sec)  -- \tMean Score =27.3 -- \t Avg: 28.9\n"
     ]
    },
    {
     "name": "stdout",
     "output_type": "stream",
     "text": [
      "\rEpisode 609 (7 sec)  -- \tMean Score =31.3 -- \t Avg: 29.0\n"
     ]
    },
    {
     "name": "stdout",
     "output_type": "stream",
     "text": [
      "\rEpisode 610 (7 sec)  -- \tMean Score =38.0 -- \t Avg: 29.1\n"
     ]
    },
    {
     "name": "stdout",
     "output_type": "stream",
     "text": [
      "\rEpisode 611 (7 sec)  -- \tMean Score =29.4 -- \t Avg: 29.2\n"
     ]
    },
    {
     "name": "stdout",
     "output_type": "stream",
     "text": [
      "\rEpisode 612 (8 sec)  -- \tMean Score =34.1 -- \t Avg: 29.2\n"
     ]
    },
    {
     "name": "stdout",
     "output_type": "stream",
     "text": [
      "\rEpisode 613 (7 sec)  -- \tMean Score =30.3 -- \t Avg: 29.2\n"
     ]
    },
    {
     "name": "stdout",
     "output_type": "stream",
     "text": [
      "\rEpisode 614 (7 sec)  -- \tMean Score =33.9 -- \t Avg: 29.3\n"
     ]
    },
    {
     "name": "stdout",
     "output_type": "stream",
     "text": [
      "\rEpisode 615 (8 sec)  -- \tMean Score =24.5 -- \t Avg: 29.2\n"
     ]
    },
    {
     "name": "stdout",
     "output_type": "stream",
     "text": [
      "\rEpisode 616 (7 sec)  -- \tMean Score =27.4 -- \t Avg: 29.1\n"
     ]
    },
    {
     "name": "stdout",
     "output_type": "stream",
     "text": [
      "\rEpisode 617 (7 sec)  -- \tMean Score =28.5 -- \t Avg: 29.2\n"
     ]
    },
    {
     "name": "stdout",
     "output_type": "stream",
     "text": [
      "\rEpisode 618 (8 sec)  -- \tMean Score =34.5 -- \t Avg: 29.2\n"
     ]
    },
    {
     "name": "stdout",
     "output_type": "stream",
     "text": [
      "\rEpisode 619 (8 sec)  -- \tMean Score =28.1 -- \t Avg: 29.3\n"
     ]
    },
    {
     "name": "stdout",
     "output_type": "stream",
     "text": [
      "\rEpisode 620 (8 sec)  -- \tMean Score =30.2 -- \t Avg: 29.3\n"
     ]
    },
    {
     "name": "stdout",
     "output_type": "stream",
     "text": [
      "\rEpisode 621 (7 sec)  -- \tMean Score =34.1 -- \t Avg: 29.5\n"
     ]
    },
    {
     "name": "stdout",
     "output_type": "stream",
     "text": [
      "\rEpisode 622 (7 sec)  -- \tMean Score =34.6 -- \t Avg: 29.6\n"
     ]
    },
    {
     "name": "stdout",
     "output_type": "stream",
     "text": [
      "\rEpisode 623 (7 sec)  -- \tMean Score =29.1 -- \t Avg: 29.7\n"
     ]
    },
    {
     "name": "stdout",
     "output_type": "stream",
     "text": [
      "\rEpisode 624 (7 sec)  -- \tMean Score =32.3 -- \t Avg: 29.7\n"
     ]
    },
    {
     "name": "stdout",
     "output_type": "stream",
     "text": [
      "\rEpisode 625 (7 sec)  -- \tMean Score =28.4 -- \t Avg: 29.8\n"
     ]
    },
    {
     "name": "stdout",
     "output_type": "stream",
     "text": [
      "\rEpisode 626 (7 sec)  -- \tMean Score =37.0 -- \t Avg: 30.0\n"
     ]
    },
    {
     "name": "stdout",
     "output_type": "stream",
     "text": [
      "\rEpisode 627 (7 sec)  -- \tMean Score =31.7 -- \t Avg: 30.0\n"
     ]
    },
    {
     "name": "stdout",
     "output_type": "stream",
     "text": [
      "\rEpisode 628 (7 sec)  -- \tMean Score =31.3 -- \t Avg: 30.0\n"
     ]
    },
    {
     "name": "stdout",
     "output_type": "stream",
     "text": [
      "\rEpisode 629 (8 sec)  -- \tMean Score =29.0 -- \t Avg: 30.0\n\nEnvironment SOLVED in 529 episodes!\tMoving Average =29.0 over last 30.002599329389632 episodes\n"
     ]
    }
   ],
   "source": [
    "\n",
    "\n",
    "from ddpg_agent import Agent\n",
    "from collections import deque\n",
    "import matplotlib.pyplot as plt\n",
    "import numpy as np\n",
    "import time\n",
    "import torch\n",
    "\n",
    "%matplotlib inline\n",
    "\n",
    "\n",
    "\n",
    "def ddpg(n_episodes=5000, max_t=1000, solved_score=30.0, consec_episodes=100, print_every=1, train_mode=True,\n",
    "         actor_path='actor.pth', critic_path='critic.pth'):\n",
    "\n",
    "    mean_scores = []  # list of mean scores from each episode\n",
    "    scores_window = deque(maxlen=consec_episodes)  # mean scores from most recent episodes\n",
    "    avgs = []  # list of averages\n",
    "\n",
    "    for i_episode in range(1, n_episodes + 1):\n",
    "        env_info = env.reset(train_mode=train_mode)[brain_name]  # reset environment\n",
    "        states = env_info.vector_observations  # get current state for each agent\n",
    "        scores = np.zeros(num_agents)  # initialize score for each agent\n",
    "        agent.reset()\n",
    "        start_time = time.time()\n",
    "        for t in range(max_t):\n",
    "            actions = agent.act(states, add_noise=True)  # select an action\n",
    "            env_info = env.step(actions)[brain_name]  # send actions to environment\n",
    "            next_states = env_info.vector_observations  # get next state\n",
    "            rewards = env_info.rewards  # get reward\n",
    "            dones = env_info.local_done  # see if episode has finished\n",
    "            # save experience to replay buffer, perform learning step at defined interval\n",
    "            for state, action, reward, next_state, done in zip(states, actions, rewards, next_states, dones):\n",
    "                agent.step(state, action, reward, next_state, done,t)\n",
    "            states = next_states\n",
    "            scores += rewards\n",
    "            if np.any(dones):  # exit loop when episode ends\n",
    "                break\n",
    "\n",
    "        duration = time.time() - start_time\n",
    "        mean_scores.append(np.mean(scores))  # save mean score for the episode\n",
    "        scores_window.append(mean_scores[-1])  # save mean score to window\n",
    "        avgs.append(np.mean(scores_window))  # save moving average\n",
    "\n",
    "        if i_episode % print_every == 0:\n",
    "            print('\\rEpisode {} ({} sec)  -- \\tMean Score ={:.1f} -- \\t Avg: {:.1f}'.format( \\\n",
    "                i_episode, round(duration), mean_scores[-1], avgs[-1]))\n",
    "\n",
    "\n",
    "        if avgs[-1] >= solved_score and i_episode >= consec_episodes:\n",
    "            print('\\nEnvironment SOLVED in {} episodes!\\tMoving Average ={:.1f} over last {} episodes'.format( \\\n",
    "                i_episode - consec_episodes, mean_scores[-1], avgs[-1], consec_episodes))\n",
    "            if train_mode:\n",
    "                torch.save(agent.actor_local.state_dict(), actor_path)\n",
    "                torch.save(agent.critic_local.state_dict(), critic_path)\n",
    "            break\n",
    "\n",
    "    return mean_scores, avgs\n",
    "\n",
    "\n",
    "\n",
    "# run the training loop\n",
    "agent = Agent(state_size=state_size, action_size=action_size, random_seed=1)\n",
    "scores, avgs = ddpg()\n"
   ]
  },
  {
   "cell_type": "code",
   "execution_count": 7,
   "metadata": {},
   "outputs": [
    {
     "data": {
      "image/png": "[encoded data removed]",
      "text/plain": [
       "<matplotlib.figure.Figure at 0x7fed9841d6a0>"
      ]
     },
     "metadata": {},
     "output_type": "display_data"
    }
   ],
   "source": [
    "\n",
    "fig = plt.figure()\n",
    "ax = fig.add_subplot(111)\n",
    "plt.plot(np.arange(len(scores)), scores, label='DDPG')\n",
    "plt.plot(np.arange(len(scores)), avgs, c='r', label='moving avg')\n",
    "plt.ylabel('score')\n",
    "plt.xlabel('episods')\n",
    "plt.show()\n"
   ]
  },
  {
   "cell_type": "code",
   "execution_count": null,
   "metadata": {},
   "outputs": [],
   "source": []
  }
 ],
 "metadata": {
  "kernelspec": {
   "display_name": "Python 3",
   "language": "python",
   "name": "python3"
  },
  "language_info": {
   "codemirror_mode": {
    "name": "ipython",
    "version": 3
   },
   "file_extension": ".py",
   "mimetype": "text/x-python",
   "name": "python",
   "nbconvert_exporter": "python",
   "pygments_lexer": "ipython3",
   "version": "3.6.4"
  }
 },
 "nbformat": 4,
 "nbformat_minor": 2
}
